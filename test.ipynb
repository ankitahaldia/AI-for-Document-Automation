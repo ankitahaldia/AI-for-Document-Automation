{
 "metadata": {
  "language_info": {
   "codemirror_mode": {
    "name": "ipython",
    "version": 3
   },
   "file_extension": ".py",
   "mimetype": "text/x-python",
   "name": "python",
   "nbconvert_exporter": "python",
   "pygments_lexer": "ipython3",
   "version": "3.8.5-final"
  },
  "orig_nbformat": 2,
  "kernelspec": {
   "name": "python3",
   "display_name": "Python 3.8.5 64-bit ('venv')",
   "metadata": {
    "interpreter": {
     "hash": "f21816f78459a9a9eae7f3b1461180d5eac02f1421e96051f56d6461521c7a49"
    }
   }
  }
 },
 "nbformat": 4,
 "nbformat_minor": 2,
 "cells": [
  {
   "cell_type": "code",
   "execution_count": 2,
   "metadata": {},
   "outputs": [],
   "source": [
    "import pytesseract\n",
    "from PIL import Image \n",
    "import pytesseract \n",
    "import sys \n",
    "from pdf2image import convert_from_path \n",
    "import os \n",
    "from langdetect import detect\n",
    "import src.services as sv\n",
    "from io import BytesIO\n",
    "import cv2\n",
    "import numpy as np\n"
   ]
  },
  {
   "cell_type": "code",
   "execution_count": null,
   "metadata": {},
   "outputs": [],
   "source": []
  },
  {
   "cell_type": "code",
   "execution_count": null,
   "metadata": {},
   "outputs": [],
   "source": []
  },
  {
   "cell_type": "code",
   "execution_count": 2,
   "metadata": {},
   "outputs": [
    {
     "output_type": "execute_result",
     "data": {
      "text/plain": [
       "['Hoofdstuk V — Sociale vrede',\n",
       " 'Artikel 5',\n",
       " 'De partijen verbinden zich ertoe om in 2019-2020\\nde sociale vrede te bewaren en gedurende deze\\nperiode geen enkele bijkomende eis te stellen op\\nsectorvlak of op ondernemingsvlak.',\n",
       " 'Hoofdstuk VI — Duur',\n",
       " 'Artikel 6\\nDeze collectieve arbeidsovereenkomst wordt\\ngesloten voor een onbepaalde duur en treedt in',\n",
       " 'werking op 1 november 2019.',\n",
       " 'Zij kan worden opgezegd door één der partijen,\\nmits een opzegging van 3 maanden gericht bij\\neen aangetekende brief aan de voorzitter van het\\nAanvullend Paritair Comité voor de Werklieden.',\n",
       " 'Chapitre V — Paix sociale',\n",
       " 'Article 5',\n",
       " 'Les parties s’engagent a préserver la paix sociale\\nen 2019-2020 et a ne formuler pendant cette\\npériode aucune exigence complémentaire au\\nniveau sectoriel ou au niveau de |’entreprise.\\nChapitre VI — Durée',\n",
       " 'Article 6',\n",
       " 'La présente convention collective de travail est\\nconclue pour une durée indéterminée et entre en\\nvigueur le 1% novembre 2019.',\n",
       " 'Elle peut étre résiligée par une des parties\\nmoyennant un préavis de 3 mois adressé par\\nlettre recommandée au président de la\\nCommission Paritaire Auxiliaire pour Ouvriers.',\n",
       " ' \\n\\x0c']"
      ]
     },
     "metadata": {},
     "execution_count": 2
    }
   ],
   "source": [
    "text = sv.extract_text('', 'test.pdf')\n",
    "text"
   ]
  },
  {
   "cell_type": "code",
   "execution_count": null,
   "metadata": {},
   "outputs": [],
   "source": [
    "identifiers = ['chapitre']\n",
    "\n",
    "chapitres = sv.segmantize(text,identifiers)"
   ]
  },
  {
   "cell_type": "code",
   "execution_count": null,
   "metadata": {},
   "outputs": [],
   "source": [
    "identifiers2 =['article']\n",
    "identifiers3 =['§']\n",
    "articles = []\n",
    "for chapitre in chapitres : \n",
    "    articles.append(chapitre[0])\n",
    "    articles_temp = sv.segmantize(chapitre, identifiers2)\n",
    "    miniarts = []\n",
    "    for article_temp in articles_temp :\n",
    "        miniarts.append(article_temp[0])\n",
    "        miniarts.append(sv.segmantize(article_temp, identifiers3))\n",
    "    articles.append(miniarts)"
   ]
  },
  {
   "cell_type": "code",
   "execution_count": null,
   "metadata": {
    "tags": []
   },
   "outputs": [],
   "source": []
  },
  {
   "cell_type": "code",
   "execution_count": 3,
   "metadata": {
    "tags": []
   },
   "outputs": [],
   "source": [
    "\n",
    "pages=convert_from_path(\"test.pdf\")\n",
    "images = []\n",
    "\n",
    "\n",
    "for page in pages:\n",
    "    with BytesIO() as f:\n",
    "        page.save(f,format=\"JPEG\")\n",
    "        f.seek(0)\n",
    "        img_array = np.asarray(bytearray(f.read()), dtype=np.uint8)\n",
    "        images.append(cv2.imdecode(img_array, 0))\n",
    "for i in images:\n",
    "    cv2.imshow('alo',i)"
   ]
  },
  {
   "cell_type": "code",
   "execution_count": null,
   "metadata": {},
   "outputs": [],
   "source": []
  }
 ]
}