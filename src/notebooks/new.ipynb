{
 "metadata": {
  "language_info": {
   "codemirror_mode": {
    "name": "ipython",
    "version": 3
   },
   "file_extension": ".py",
   "mimetype": "text/x-python",
   "name": "python",
   "nbconvert_exporter": "python",
   "pygments_lexer": "ipython3",
   "version": "3.7.9-final"
  },
  "orig_nbformat": 2,
  "kernelspec": {
   "name": "python3",
   "display_name": "Python 3.7.9 64-bit ('base': conda)",
   "metadata": {
    "interpreter": {
     "hash": "3fa126f4b0a9b797a967ff948bb2b3f1230e77355ff8c9d30e6f0af6fbba1830"
    }
   }
  }
 },
 "nbformat": 4,
 "nbformat_minor": 2,
 "cells": [
  {
   "cell_type": "code",
   "execution_count": 11,
   "metadata": {},
   "outputs": [],
   "source": [
    "import cv2\n",
    "import numpy as np"
   ]
  },
  {
   "cell_type": "code",
   "execution_count": 48,
   "metadata": {},
   "outputs": [],
   "source": [
    "import pytesseract\n",
    "from PIL import Image \n",
    "import pytesseract \n",
    "import sys \n",
    "from pdf2image import convert_from_path \n",
    "import os \n",
    "from langdetect import detect"
   ]
  },
  {
   "cell_type": "code",
   "execution_count": 49,
   "metadata": {},
   "outputs": [],
   "source": [
    "pytesseract.pytesseract.tesseract_cmd = r'/usr/bin/tesseract'\n",
    "\n"
   ]
  },
  {
   "cell_type": "code",
   "execution_count": 3,
   "metadata": {},
   "outputs": [
    {
     "output_type": "execute_result",
     "data": {
      "text/plain": [
       "LooseVersion ('4.0.0-beta.1')"
      ]
     },
     "metadata": {},
     "execution_count": 3
    }
   ],
   "source": [
    " pytesseract. get_tesseract_version()"
   ]
  },
  {
   "cell_type": "code",
   "execution_count": 4,
   "metadata": {},
   "outputs": [],
   "source": [
    "\n",
    "def extract_text(path,name) :\n",
    "\n",
    "    ''' \n",
    "    Extracts text from pdf and \n",
    "    returns a list of all the strings which are in french\n",
    "\n",
    "    '''\n",
    "    PDF_file = name\n",
    "    # Store all the pages of the PDF in a variable \n",
    "    pages = convert_from_path(PDF_file, 200) \n",
    "  \n",
    "    # Counter to store images of each page of PDF to image \n",
    "    image_counter = 1\n",
    "    \n",
    "    # Iterate through all the pages stored above \n",
    "    for page in pages: \n",
    "        \n",
    "        page2img(page,image_counter,name)\n",
    "        # Increment the counter to update filename \n",
    "        image_counter += 1\n",
    "\n",
    "    fr_list = image_to_text(image_counter,name)\n",
    "\n",
    "    return fr_list\n"
   ]
  },
  {
   "cell_type": "code",
   "execution_count": 5,
   "metadata": {},
   "outputs": [],
   "source": [
    "def page2img(page,img_cnt,name):\n",
    "    \n",
    "    # Declaring filename for each page of PDF as JPG \n",
    "    filename = name+\"_\"+str(img_cnt)+\".jpg\"\n",
    "      \n",
    "    # Save the image of the page in system \n",
    "    page.save(filename, 'JPEG') "
   ]
  },
  {
   "cell_type": "code",
   "execution_count": 6,
   "metadata": {},
   "outputs": [],
   "source": [
    "def text_to_list(text):\n",
    "    to_list = []\n",
    "    to_list = text.split('\\n\\n')\n",
    "    to_list = list(filter(lambda x: x != \" \", to_list))\n",
    "    return to_list\n"
   ]
  },
  {
   "cell_type": "code",
   "execution_count": 107,
   "metadata": {},
   "outputs": [],
   "source": [
    "def is_french(stringx) :\n",
    "    try :\n",
    "        if detect(stringx.lower()) == 'fr' :\n",
    "            return True\n",
    "    except :\n",
    "        return False\n",
    "\n",
    "\n",
    "def image_to_text(image_counter,name) :   \n",
    "    ''' \n",
    "    Part #2 - Recognizing text from the images using OCR \n",
    "    '''\n",
    "    \n",
    "    # Variable to get count of total number of pages \n",
    "    filelimit = image_counter-1\n",
    "  \n",
    "    fr_list = []\n",
    "  \n",
    "    # Iterate from 1 to total number of pages \n",
    "    for i in range(1, filelimit + 1): \n",
    "  \n",
    "        # Set filename to recognize text from \n",
    "    \n",
    "        filename = name+\"_\"+str(i)+\".jpg\"\n",
    "          \n",
    "        # Recognize the text as string in image using pytesserct\n",
    "        config = \"--psm 3\"\n",
    "        img_preprocessing(filename)\n",
    "        text = str(pytesseract.image_to_string(Image.open(filename))) #,config=config, lang                  #= 'fra')) \n",
    "  \n",
    "        text = text.replace('-\\n', '')\n",
    "\n",
    "        text_list = text_to_list(text)\n",
    "        for line in text_list :\n",
    "            if is_french(line) or line.startswith('Artic') or line.startswith('§')  :\n",
    "                fr_list.append(line.replace('\\n',' '))\n",
    "    \n",
    "    return fr_list\n"
   ]
  },
  {
   "cell_type": "code",
   "execution_count": 104,
   "metadata": {},
   "outputs": [],
   "source": [
    "def img_preprocessing(img_name):\n",
    "    #def get_string(img_path, method):\n",
    "    img = cv2.imread(img_name)\n",
    "\n",
    "    img = cv2.resize(img, None, fx=2, fy=2, interpolation=cv2.INTER_CUBIC)\n",
    "    # Convert to gray\n",
    "    img = cv2.cvtColor(img, cv2.COLOR_BGR2GRAY)\n",
    "    # Apply dilation and erosion to remove some noise\n",
    "    kernel = np.ones((1, 1), np.uint8)\n",
    "    img = cv2.dilate(img, kernel, iterations=1)\n",
    "    img = cv2.erode(img, kernel, iterations=1)\n",
    "    #  Apply threshold to get image with only black and white\n",
    "    img = cv2.threshold(cv2.GaussianBlur(img, (7, 7), 0), 0, 255, cv2.THRESH_BINARY +       cv2.THRESH_OTSU)[1]\n",
    "    #img = cv2.threshold(cv2.GaussianBlur(img, (5, 5), 0), 0, 255, cv2.THRESH_BINARY +  cv2.THRESH_OTSU)[1]  \n",
    "    #img = cv2.threshold(cv2.medianBlur(img, 3), 0, 255, cv2.THRESH_BINARY + cv2.THRESH_OTSU)[1]      \n",
    "    cv2.imwrite(img_name, img)\n",
    "    "
   ]
  },
  {
   "cell_type": "code",
   "execution_count": 108,
   "metadata": {},
   "outputs": [],
   "source": [
    "# Path of the pdf \n",
    "PATH = \"src/notebooks/\"\n",
    "pdf_name = 'test.pdf'\n",
    "\n",
    "french_text = extract_text(PATH,pdf_name)\n"
   ]
  },
  {
   "cell_type": "code",
   "execution_count": 109,
   "metadata": {},
   "outputs": [
    {
     "output_type": "execute_result",
     "data": {
      "text/plain": [
       "['§1',\n",
       " '§2',\n",
       " '§3',\n",
       " 'CONVENTION COLLECTIVE DE TRAVAIL',\n",
       " \"DU 13 NOVEMBRE 2019 CONCLUE AU SEIN DE LA COMMISSION PARITAIRE AUXILIAIRE POUR OUVRIERS INSTAURANT ET DETERMINANTLA PROCEDURE DE MISE EN CEUVRE ET LES CONDITIONS D'OCTROI D'UN REGIME DE CHOMAGE AVEC COMPLEMENT D’ENTREPRISE EN EXECUTION DE LA CCT n° 138 et n° 139 CONCLUE AU SEIN DU CONSEIL NATIONAL DU TRAVAIL\",\n",
       " \"CHAPITRE | - CHAMP D'APPLICATION\",\n",
       " 'Article 1',\n",
       " \"La présente convention collective de travail s'applique aux employeurs et aux ouvriers ressortissants du champ d’application de la commission paritaire auxiliaire pour ouvriers. Par «ouvriers », on entend les ouvriers masculins et féminins.\",\n",
       " 'CHAPITRE Il - PORTEE DE LA',\n",
       " \"CONVENTION Article 2 §1 La présente convention a aussi bien pour objet d'instaurer un régime d'indemnité\",\n",
       " \"complémentaire applicable a _ certains travailleurs Agés licenciés que d'en déterminer la procédure de mise en ceuvre et les conditions d'octroi.\",\n",
       " '§2',\n",
       " \"Elle est conclue en vertu de l'article 3, § 1er de l'arrété royal du 3 mai 2007 fixant le régime de chémage avec complément d'entreprise.\",\n",
       " '§3',\n",
       " 'La présente convention collective du travail est conciue en exécution :',\n",
       " \"- del'article 2 §1 jusqu’a §3 de la Convention collective de travail N° 138 du 23 avril 2019 « fixant, pour la période du 1 janvier 2021 au 30 juin 2021, les conditions d’octroi d’un complément d’entreprise dans le cadre du régime de chémage avec\",\n",
       " 'complément d’entreprise pour certains travailleurs agés licenciés qui ont travaillé 20 ans dans un régime de travail de nuit, qui ont été occupés dans le cadre d’un métier lourd ou qui ont été occupés dans le secteur de la construction et sont en incapacité de travail » - etde la Convention collective de travail n° 139 du 23 avril 2019 « fixant a titre interprofessionnel pour 2021 et 2022, l’Age a partir duquel un régime de chémage avec complément d’entreprise peut étre octroyé a certains travailleurs agés licenciés qui ont travaillé 20 ans dans un régime de travail de nuit, qui ont été occupés dans le cadre d’un métier lourd ou qui ont été occupés dans le secteur de la construction et sont en incapacité de travail ».',\n",
       " 'CHAPITRE Ill - MISE EN GUVRE Article 3',\n",
       " \"ll appartient aux employeurs de mettre en oeuvre, par voie d'adhésion, le régime visé a l'article 2 de la présente convention.\",\n",
       " \"L'adhésion peut prendre la forme d'une convention collective de travail, d'un acte d'adhésion établi conformément a l'article 4 ou d'une modification du réeglement de travail.\",\n",
       " \"Elle porte exclusivement sur le régime et ses conditions d'octroi, visés a l'article 2.\",\n",
       " \"Quelle que soit la forme de l'adhésion, le dépdt doit se faire au Greffe de la Direction générale Relations collectives de travail du Service public fédéral Emploi, Travail et Concertation sociale.\",\n",
       " 'Article 4 Artikel 4',\n",
       " \"L'acte d'adhésion est établi dans le respect de la procédure suivante et conformément au modeéle figurant en annexe de la présente convention.\",\n",
       " \"L'employeur communique le projet d'acte d'adhésion par écrit a\",\n",
       " 'chaque travailleur.',\n",
       " '§1 De in artikel 2 vastgelegde regeling geldt voor de werknemers die - worden ontslagen, behalve om een dringende reden - en 59 jaar of ouder zijn uiterlijk op 30 juni 2021 en op het ogenblik van de beéindiging van de arbeidsovereenkomst,',\n",
       " \"Pendant huit jours a dater de cette communication écrite, 'employeur tient a la disposition des travailleurs un registre ot ceux-ci peuvent consigner leurs observations. Pendant ce méme deélai de huit jours, le travailleur ou son_ représentant peut également communiquer ses observations a l'inspecteur social chef de direction de la Direction générale Contréle des Lois sociales du Service public fédéral Emploi, Travail et Concertation sociale, du lieu d'établissement de I'entreprise. Le nom du travailleur ne peut étre ni communiqué ni divulgué.\",\n",
       " \"Passé ce délai de huit jours, I'employeur dépose l'acte d'adhésion au Greffe de la Direction générale Relations collectives de travail du Service public fédéral Emploi, Travail et Concertation sociale, accompagné du registre.\",\n",
       " 'Article 5',\n",
       " \"En cas de litiges relatifs a l'application des articles 3 et 4 a l'exception de ceux portant sur le reglement de travail, la cause est portée par la partie la plus diligente devant la commission paritaire qui statuera.\",\n",
       " 'Commentaire',\n",
       " \"En ce qui concerne les litiges relatifs au réeglement de travail, il est rappelé que ce sont les articles 11 et 12 de la loi du 8 avril 1965 instituant les reglements de travail qui s'appliquent.\",\n",
       " 'CHAPITRE IV — REGLES D’APPLICATION',\n",
       " 'Article 6 §1',\n",
       " \"Le régime visé a l'article 2 bénéficie aux travailleurs - qui sont licenciés sauf en cas de motif grave - etsont agés de 59 ans ou plus au plus tard le 30 juin 2021 et au moment de la fin du contrat de travail, \\x0c\",\n",
       " '§2',\n",
       " '§3',\n",
       " \"et pour autant que les personnes concernés remplissent les conditions prévues par I’article 3§3 de l’'AR du 3 mai 2007 a savoir :\",\n",
       " 'e pouvoir justifier d’au moins 33 ans de passé professionnel dont :',\n",
       " \"- ayant travaillé au moins 20 ans dans un régime de travail tel que visé a l'article 1er de la convention collective de travail n° 46 du 23 mars 1990 relative aux mesures d'encadrement du travail en équipes comportant des prestations de nuit ainsi que d'autres formes de travail comportant des prestations de nuit, modifiée par les conventions collectives de travail n° 46 sexies du 9 janvier 1995, n° 46 septies du 25 avril 1995 et n° 46 duodecies du 19 décembre 2001\",\n",
       " \"- soit ayant travaillé pendant au moins 5 ans durant les 10 derniéres années calendrier avant la fin du contrat de travail, soit pendant au moins 7 ans durant les 15 derniéres années calendrier avant la fin du contrat de travail dans un métier lourd défini a l'article 7 de la CCT n° 130 et n° 138 du CNT.\",\n",
       " 'et pour autant que les personnes concernés ont une ancienneteé dans l’entreprise d’au moins 5 ans.',\n",
       " '§2',\n",
       " 'Le licenciement en vue de l’octroi du ch6mage avec complément d’entreprise a partir de 59 ans comme prévu au §1 doit intervenir entre le 1° janvier 2021 et le 30 juin 2021.',\n",
       " '§3',\n",
       " \"Le travailleur qui réunit les conditions prévues aux paragraphes précédents et dont le délai de préavis expire aprés le 30 juin 2021 maintient le droit a l'indemnité complémentaire.\",\n",
       " 'Article 7',\n",
       " \"Pour les points qui ne sont pas réglés par la présente convention et entre autres pour le montant de l'indemnité complémentaire, il est fait application de la convention collective de travail n° 17 du 19 décembre 1974 instituant un régime d'indemnité complémentaire pour certains travailleurs Agés, en cas de \\x0c\",\n",
       " 'licenciement, modifiée par les conventions collectives de travail n° 17 bis du 29 janvier 1976, n° 17 nonies du 7 juin 1983, n° 17 duodevicies du 26 juillet 1994, n° 17 vicies du 17 décembre 1997, n° 17 vicies quater du 19 décembre 2001, n° 17 vicies sexies du 7 octobre 2003 et n°17 tricies du 19 décembre 2006.',\n",
       " 'CHAPITRE V - ENTREE EN VIGUEUR ET DUREE DE LA CONVENTION',\n",
       " \"Elle produit ses effets a partir du ter janvier 2021 et cessera d'étre en vigueur le 31 décembre 2022.\",\n",
       " '* Nummer paritair comité: PC 100 (Aanvullend paritair comité voor werklieden)',\n",
       " 'ANNEXE',\n",
       " \"MISE EN CEUVRE DE L'ARTICLE 4 DE LA CONVENTION COLLECTIVE DE TRAVAIL DU 143 NOVEMBRE 2019 CONCLUE AU SEIN DE LA COMMISSION PARITAIRE AUXILIAIRE POUR OUVRIERS INSTAURANT ET DETERMINANTLA PROCEDURE DE MISE EN CEUVRE ET LES CONDITIONS D'OCTROI D'UN REGIME DE CHOMAGE AVEC COMPLEMENT D’ENTREPRISE EN EXECUTION DE LA CCT N°138 et N° 139 CONCLUE AU SEIN DU CONSEIL NATIONAL DU TRAVAIL\",\n",
       " 'A renvoyer au Greffe de la Direction générale Relations collectives de travail du Service public fédéral Emploi, Travail et Concertation sociale',\n",
       " \"* Identification de l'entreprise\",\n",
       " '* Numéro de commission paritaire : CP 100 (Commission paritaire auxiliaire pour ouvriers)',\n",
       " \"JE SOUSSIQNE(E), o.oo... ce eeeeteeees , représentant l'entreprise susmentionnée, déclare adhérer a la convention collective de travail du 13 novembre 2019 relative a l'octroi d’un régime d’indemnité complémentaire pour certains travailleurs Agés licenciés dans le cadre d’un régime de chémage avec complément d'entreprise en exécution de la CCT n° 138 et n° 139 du CNT (59 ans dans la période 1/1/2021 — 30/6/2021 et pouvant se prévaloir d’un passé professionnel d’au moins 33 ans et d’au moins 20 ans dans un régime de travail visé a l'article 1° de la CCT N° 46 conclue au CNT ou dans un métier lourd défini dans la CCT n° 138 et n° 139).\"]"
      ]
     },
     "metadata": {},
     "execution_count": 109
    }
   ],
   "source": [
    "french_text"
   ]
  },
  {
   "cell_type": "code",
   "execution_count": 125,
   "metadata": {},
   "outputs": [],
   "source": [
    "#french_text"
   ]
  },
  {
   "cell_type": "code",
   "execution_count": 14,
   "metadata": {},
   "outputs": [],
   "source": [
    "import cv2\n",
    "import numpy as np\n",
    "\n",
    "\n",
    "# get grayscale image\n",
    "def get_grayscale(image):\n",
    "    return cv2.cvtColor(image, cv2.COLOR_BGR2GRAY)\n",
    "    \n",
    "# noise removal\n",
    "def remove_noise(image):\n",
    "    return cv2.medianBlur(image,5)\n",
    " \n",
    "#thresholding\n",
    "def thresholding(image):\n",
    "    # threshold the image, setting all foreground pixels to\n",
    "    # 255 and all background pixels to 0\n",
    "    return cv2.threshold(gray, 0, 255, cv2.THRESH_BINARY | cv2.THRESH_OTSU)[1]\n",
    "\n",
    "#dilation\n",
    "def dilate(image):\n",
    "    kernel = np.ones((5,5),np.uint8)\n",
    "    return cv2.dilate(image, kernel, iterations = 1)\n",
    "    \n",
    "#erosion\n",
    "def erode(image):\n",
    "    kernel = np.ones((5,5),np.uint8)\n",
    "    return cv2.erode(image, kernel, iterations = 1)\n",
    "\n",
    "#opening - erosion followed by dilation\n",
    "def opening(image):\n",
    "    kernel = np.ones((5,5),np.uint8)\n",
    "    return cv2.morphologyEx(image, cv2.MORPH_OPEN, kernel)\n",
    "\n",
    "#canny edge detection\n",
    "def canny(image):\n",
    "    return cv2.Canny(image, 100, 200)\n",
    "\n",
    "#skew correction\n",
    "def deskew(image):\n",
    "    gray = cv2.cvtColor(image, cv2.COLOR_BGR2GRAY)\n",
    "    gray = cv2.bitwise_not(gray)\n",
    "    thresh = cv2.threshold(gray, 0, 255,\n",
    "        cv2.THRESH_BINARY | cv2.THRESH_OTSU)[1]\n",
    "    coords = np.column_stack(np.where(thresh > 0))\n",
    "    angle = cv2.minAreaRect(coords)[-1]\n",
    "    if angle < -45:\n",
    "        angle = -(90 + angle)\n",
    "    else:\n",
    "        angle = -angle\n",
    "    (h, w) = image.shape[:2]\n",
    "    center = (w // 2, h // 2)\n",
    "    M = cv2.getRotationMatrix2D(center, angle, 1.0)\n",
    "    rotated = cv2.warpAffine(image, M, (w, h),\n",
    "        flags=cv2.INTER_CUBIC, borderMode=cv2.BORDER_REPLICATE)    \n",
    "    return rotated\n",
    "\n",
    "#template matching\n",
    "def match_template(image, template):\n",
    "    return cv2.matchTemplate(image, template, cv2.TM_CCOEFF_NORMED)"
   ]
  },
  {
   "cell_type": "code",
   "execution_count": 15,
   "metadata": {},
   "outputs": [],
   "source": [
    "img = cv2.imread('118.pdf_9.jpg')\n",
    "\n",
    "deskew = deskew(img)\n",
    "gray = get_grayscale(deskew)\n",
    "thresh = thresholding(gray)\n",
    "#rnoise = remove_noise(gray)\n",
    "#dilate = dilate(gray)\n",
    "#erode = erode(gray)\n",
    "#opening = opening(gray)\n",
    "#canny = canny(gray)"
   ]
  },
  {
   "cell_type": "code",
   "execution_count": 90,
   "metadata": {},
   "outputs": [
    {
     "output_type": "execute_result",
     "data": {
      "text/plain": [
       "True"
      ]
     },
     "metadata": {},
     "execution_count": 90
    }
   ],
   "source": [
    "#def get_string(img_path, method):\n",
    "img = cv2.imread('test.pdf_3.jpg')\n",
    "\n",
    "img = cv2.resize(img, None, fx=1.5, fy=1.5, interpolation=cv2.INTER_CUBIC)\n",
    "# Convert to gray\n",
    "img = cv2.cvtColor(img, cv2.COLOR_BGR2GRAY)\n",
    "# Apply dilation and erosion to remove some noise\n",
    "kernel = np.ones((1, 1), np.uint8)\n",
    "img = cv2.dilate(img, kernel, iterations=1)\n",
    "img = cv2.erode(img, kernel, iterations=1)\n",
    "#  Apply threshold to get image with only black and white\n",
    "img = cv2.threshold(cv2.GaussianBlur(img, (7, 7), 0), 0, 255, cv2.THRESH_BINARY + cv2.THRESH_OTSU)[1]\n",
    "#img = cv2.threshold(cv2.GaussianBlur(img, (5, 5), 0), 0, 255, cv2.THRESH_BINARY + cv2.THRESH_OTSU)[1]  \n",
    "#img = cv2.threshold(cv2.medianBlur(img, 3), 0, 255, cv2.THRESH_BINARY + cv2.THRESH_OTSU)[1]  \n",
    "cv2.imwrite('testpreprocessed.jpg', img)\n",
    "\n"
   ]
  },
  {
   "cell_type": "code",
   "execution_count": 103,
   "metadata": {},
   "outputs": [],
   "source": [
    "# Recognize the text as string in image using pytesserct \n",
    "config = \"--psm 3\"\n",
    "text = str(((pytesseract.image_to_string(Image.open('testpreprocessed.jpg'),config=config, lang = 'fra'))))\n",
    "  \n",
    "#text = text.replace('-\\n', '')\n",
    "fr1_list = []\n",
    "text_list = text_to_list(text)\n",
    "for line in text_list :\n",
    "    if is_french(line) or line.startswith('Artic') :\n",
    "        fr1_list.append(line.replace('\\n',' '))\n",
    "    \n"
   ]
  },
  {
   "cell_type": "code",
   "execution_count": 105,
   "metadata": {},
   "outputs": [
    {
     "output_type": "execute_result",
     "data": {
      "text/plain": [
       "[\"Pendant huit jours à dater de cette communication écrite, l'employeur tient à la disposition des travailleurs un registre où ceux-ci peuvent consigner leurs observations. Pendant ce même délai de huit jours, le travailleur ou son représentant peut également communiquer ses observations à l'inspecteur social chef de direction de la Direction générale Contrôle des Lois sociales du Service public fédéral Emploi, Travail et Concertation sociale, du lieu d'établissement de l'entreprise. Le nom du travailleur ne peut être ni communiqué ni divulgué.\",\n",
       " \"Passé ce délai de huit jours, l'employeur dépose l'acte d'adhésion au Greffe de la Direction générale Relations collectives de travail du Service public fédéral Emploi, Travail et Concertation sociale, accompagné du registre.\",\n",
       " 'Article 5',\n",
       " \"En cas de litiges relatifs à l'application des articles 3 et 4 à l'exception de ceux portant sur le règlement de travail, la cause est portée par la partie la plus diligente devant la commission paritaire qui statuera.\",\n",
       " 'Commentaire',\n",
       " \"En ce qui concerne les litiges relatifs au règlement de travail, il est rappelé que ce sont les articles 11 et 12 de la loi du 8 avril 1965 instituant les règlements de travail qui s'appliquent.\",\n",
       " 'Article 6 $1',\n",
       " \"Le régime visé à l'article 2 bénéficie aux travailleurs - qui sont licenciés sauf en cas de motif grave et sont âgés de 59 ans ou plus au plus tard le 30 juin 2021 et au moment de la fin du contrat de travail.\"]"
      ]
     },
     "metadata": {},
     "execution_count": 105
    }
   ],
   "source": [
    "fr1_list"
   ]
  },
  {
   "cell_type": "code",
   "execution_count": 86,
   "metadata": {},
   "outputs": [],
   "source": [
    "table_image_contour = cv2.imread('118preprocessed.jpg', 0)\n",
    "table_image = cv2.imread('118preprocessed.jpg')\n",
    "\n",
    "#ret, thresh_value = cv2.threshold(table_image_contour, 180, 255, cv2.THRESH_BINARY_INV)\n",
    "#kernel = np.ones((5,5),np.uint8)\n",
    "#dilated_value = cv2.dilate(thresh_value,kernel,iterations = 1)\n",
    "#contours, hierarchy = cv2.findContours(dilated_value, cv2.RETR_TREE,cv2.CHAIN_APPROX_SIMPLE)\n",
    "#for cnt in contours:\n",
    "#    x, y, w, h = cv2.boundingRect(cnt)\n",
    "#    # bounding the images\n",
    "#    if y < 50:\n",
    "#        table_image = cv2.rectangle(table_image, (x, y), (x + w, y + h), (0, 0, 255), 1)\n",
    "#\n",
    "#cv2.namedWindow('detecttable', cv2.WINDOW_NORMAL)\n",
    "\n",
    "kernel = cv2.getStructuringElement(cv2.MORPH_RECT, (2, 2))\n"
   ]
  },
  {
   "cell_type": "code",
   "execution_count": 87,
   "metadata": {},
   "outputs": [
    {
     "output_type": "error",
     "ename": "NameError",
     "evalue": "name 'binary_image' is not defined",
     "traceback": [
      "\u001b[0;31m---------------------------------------------------------------------------\u001b[0m",
      "\u001b[0;31mNameError\u001b[0m                                 Traceback (most recent call last)",
      "\u001b[0;32m<ipython-input-87-1f79f17835b4>\u001b[0m in \u001b[0;36m<module>\u001b[0;34m\u001b[0m\n\u001b[1;32m      1\u001b[0m \u001b[0;32mimport\u001b[0m \u001b[0mnumpy\u001b[0m\u001b[0;34m\u001b[0m\u001b[0;34m\u001b[0m\u001b[0m\n\u001b[1;32m      2\u001b[0m \u001b[0mvertical_kernel\u001b[0m \u001b[0;34m=\u001b[0m \u001b[0mcv2\u001b[0m\u001b[0;34m.\u001b[0m\u001b[0mgetStructuringElement\u001b[0m\u001b[0;34m(\u001b[0m\u001b[0mcv2\u001b[0m\u001b[0;34m.\u001b[0m\u001b[0mMORPH_RECT\u001b[0m\u001b[0;34m,\u001b[0m \u001b[0;34m(\u001b[0m\u001b[0;36m1\u001b[0m\u001b[0;34m,\u001b[0m \u001b[0mnp\u001b[0m\u001b[0;34m.\u001b[0m\u001b[0marray\u001b[0m\u001b[0;34m(\u001b[0m\u001b[0mtable_image\u001b[0m\u001b[0;34m)\u001b[0m\u001b[0;34m.\u001b[0m\u001b[0mshape\u001b[0m\u001b[0;34m[\u001b[0m\u001b[0;36m1\u001b[0m\u001b[0;34m]\u001b[0m\u001b[0;34m//\u001b[0m\u001b[0;36m150\u001b[0m\u001b[0;34m)\u001b[0m\u001b[0;34m)\u001b[0m\u001b[0;34m\u001b[0m\u001b[0;34m\u001b[0m\u001b[0m\n\u001b[0;32m----> 3\u001b[0;31m \u001b[0meroded_image\u001b[0m \u001b[0;34m=\u001b[0m \u001b[0mcv2\u001b[0m\u001b[0;34m.\u001b[0m\u001b[0merode\u001b[0m\u001b[0;34m(\u001b[0m\u001b[0mbinary_image\u001b[0m\u001b[0;34m,\u001b[0m \u001b[0mvertical_kernel\u001b[0m\u001b[0;34m,\u001b[0m \u001b[0miterations\u001b[0m\u001b[0;34m=\u001b[0m\u001b[0;36m5\u001b[0m\u001b[0;34m)\u001b[0m\u001b[0;34m\u001b[0m\u001b[0;34m\u001b[0m\u001b[0m\n\u001b[0m",
      "\u001b[0;31mNameError\u001b[0m: name 'binary_image' is not defined"
     ]
    }
   ],
   "source": [
    "import numpy\n",
    "vertical_kernel = cv2.getStructuringElement(cv2.MORPH_RECT, (1, np.array(table_image).shape[1]//150))\n",
    "eroded_image = cv2.erode(binary_image, vertical_kernel, iterations=5)"
   ]
  },
  {
   "cell_type": "code",
   "execution_count": 13,
   "metadata": {},
   "outputs": [
    {
     "output_type": "stream",
     "name": "stdout",
     "text": [
      " \n\nCOLLECTIEVE ARBEIDSOVEREENKOMST VAN 13\nNOVEMBER 2019 GESLOTEN IN HET\nAANVULLEND PARITAIR COMITE VOOR DE\nWERKLIEDEN BETREFFENDE HET SECTORAAL\nAKKOORD 2019-2020 — KOOPKRACHT\n\n \n\nHoofdstuk | Toepassingsgebied\n\nArtikel 1\n\nDeze collectieve arbeidsovereenkomst is van\ntoepassing op de werkgevers en de arbeiders van\nde ondernemingen die onder de bevoegcheid\nvallen van het Aanvullend Paritair Comité voor de\nWerklieden. Onder “arbeiders” wordt verstaan\nde mannelijke en vrouwelijke arbeiders.\nHoofdstuk II — Algemene bepaling\n\nArtikel 2\n\nDeze collectieve arbeidsovereenkomst is gesloten\nin het kader van het Koninklijk besluit van 19 april\n2019 tot uitvoering van artikel 7§1 van de Wet\nvan 26 juli 1996 ter bevordering van de\nwerkgelegenheid en en tot preventieve vrijwaring\nvan het concurrentievermogen.\n\nHoofdstuk II] — verhoging van minimumuurloon\nen van effectief uurloon\n\nArtikel 3\n\nHet minimumuurloon en het effectieve uurloon\nworden met 1,1% verhoogd vanaf 1/11/2019.\n\nDe verhoging van het effectieve uurloon is niet\nvan toepassing in de mate dat gelijkwaardige\neffectieve verhogingen van het loon en/of andere\nvoordelen aan dezelfde kost (bruto + patronale\nRSZ-bijdrage) in 2019-2020 op ondernemingsvlak\nworden toegekend, uitgezonderd bonussen in\nhet kader van cao nr. 90 en automatische\nverhogingen van het loon in toepassing van een\ncollectief vastgestelde loonschaal op\nondernemingsvlak.\n\nHet bedrag van de andere voordelen moet\nverifieerbaar zijn.\n\n \n\nNeerlegging-Dépét: 27/11/2019\nRegist.-Enregistr.: 16/12/2019\nN°: 155913/C0/100\n\nCONVENTION COLLECTIVE DE TRAVAILDU13\nNOVEMBRE 2019 CONCLUE AU SEIN DELA\nCOMMISSION PARITAIRE AUXILIAIRE POUR\nOUVRIERS RELATIVE A L’ACCORD SECTORIEL\n2019-2020 — POUVOIR D’ACHAT\n\nChapitre | Champ d’application\n\nArticle 1\nLa présente convention collective de travail\n\ns’applique aux employeurs et aux ouvriers des\nentreprises relevant de la compétence de la\nCommission Paritaire Auxiliaire pour Ouvriers.\nPar « ouvriers », on entend les ouvriers masculins\net féminins.\n\nChapitre II — Disposition générale\n\n \n\nArticle 2\n\nLa présente convention collective de travail est\nconclue dans le cadre de |’Arrété royal du 19 avril\n2019 portant exécution de l'article 7§1 de la Loi\ndu 26 juillet 1996 relative a la promotion de\nl'emploi et a la sauvegarde préventive de la\ncompétitivité.\n\nChapitre Ill — augmentation du salaire horaire\nminimum et du salaire horaire effectif\n\n \n\nArticle 3\n\nLe salaire horaire minimum et le salaire horaire\neffectif sont augmentés de 1,1% a partir du\n1/11/2019.\n\nL’augmentation du salaire horaire effectif n’est\npas d’application dans la mesure oti des\naugmentations effectives du salaire et/ou autres\navantages équivalents sont accordés en 2019-\n2020 au niveau de l’entreprise au méme cot\n(brut + cotisation patronale ONSS), a l’exception\nde bonus octroyés dans le cadre de la CCT n° 90\net des augmentations salariales automatiques en\napplication d’un baréme salarial fixé\ncollectivement au niveau de l’entreprise.\n\nLe montant des autres avantages doit étre\nvérifiable.\n\n \n\n \n\n \n\n \n\n \n\n \n\n \n\n \n\f\n"
     ]
    }
   ],
   "source": [
    "img = cv2.imread(\"page_1.jpg\")\n",
    "text = pytesseract.image_to_string(img)\n",
    "print(text)"
   ]
  },
  {
   "cell_type": "code",
   "execution_count": 71,
   "metadata": {},
   "outputs": [
    {
     "output_type": "stream",
     "name": "stdout",
     "text": [
      "Bijlage 2: geldig vanaf 01/02/2021\n\nAnnexe 2: valable à partir du 01/02/2021\n\n    \n\n \n  \n\nPER WEEK\n\nPER\nPER MAAND PER 3 MAANDEN JAAR\n\n \n \n\nMEX MAT OR | PARSMORS MONS OR\n5,30 17,40 48,50 TR 00\n5,80 19,30 54,50 194,00\n7,20 6,40 21,30 59,50 212,00\n7,90 65,00 231,00\n8,50 7,50 24,90 70,00 250,00\n9,10 8,00 74,00 266,00\n8,50 28,00 79,00 282,00\n10,10 8,90 29,70 83,00 298,00\n11,30 33,00 92,00 330,00\n\n11,80 10,40 35,00 98,00 348,00\n\n12,40 10,90 36,50 102,00 364,00\n\n13,10 11,50 38,00 107,00 383,00\n14,10 12,40 41,50 116,00 415,00\n14,80 13,00 43,50 121,00 433,00\n\nL 15,40 13,50 45,00 126,00 449,00\n\f\n"
     ]
    }
   ],
   "source": [
    "image = cv2.imread(\"118preprocessed.jpg\")\n",
    "#rgb = cv2.cvtColor(image, cv2.COLOR_BGR2RGB)\n",
    "# OCR the image, supplying the country code as the language parameter\n",
    "config = \"--psm 4\"\n",
    "text = pytesseract.image_to_string(image,config=config, lang=\"fra\")\n",
    "\n",
    "print(text)"
   ]
  },
  {
   "cell_type": "code",
   "execution_count": 108,
   "metadata": {},
   "outputs": [],
   "source": [
    "from langdetect import detect\n",
    "\n",
    "\n",
    "def is_french(stringx) :\n",
    "    try :\n",
    "        if detect(stringx.lower()) == 'fr' :\n",
    "            return True\n",
    "    except :\n",
    "            return False\n",
    "\n",
    "fr_list = []\n",
    "for line in text_list :\n",
    "    if is_french(line) :\n",
    "        fr_list.append(line.replace('\\n',' '))\n",
    "        \n",
    "    \n",
    "\n",
    " \n",
    "\n",
    "#for line in mixed_text.strip().splitlines():\n",
    " # print(line + u\"\\n\")\n",
    " # for language in Detector(line).languages:\n",
    "  #  print(language)\n",
    " # print(\"\\n\")\n",
    " "
   ]
  },
  {
   "cell_type": "code",
   "execution_count": 56,
   "metadata": {},
   "outputs": [
    {
     "output_type": "execute_result",
     "data": {
      "text/plain": [
       "True"
      ]
     },
     "metadata": {},
     "execution_count": 56
    }
   ],
   "source": [
    "is_french(text_list[12].lower())"
   ]
  },
  {
   "cell_type": "code",
   "execution_count": 113,
   "metadata": {},
   "outputs": [
    {
     "output_type": "execute_result",
     "data": {
      "text/plain": [
       "'Le montant des autres avantages doit étre vérifiable.'"
      ]
     },
     "metadata": {},
     "execution_count": 113
    }
   ],
   "source": [
    "fr_list[9]"
   ]
  },
  {
   "cell_type": "code",
   "execution_count": 93,
   "metadata": {},
   "outputs": [
    {
     "output_type": "stream",
     "name": "stdout",
     "text": [
      "CONVENTION COLLECTIVE DE TRAVAILDU13\nNOVEMBRE 2019 CONCLUE AU SEIN DELA\nCOMMISSION PARITAIRE AUXILIAIRE POUR\nOUVRIERS RELATIVE A L’ACCORD SECTORIEL\n2019-2020 — POUVOIR D’ACHAT\n"
     ]
    }
   ],
   "source": [
    "print(text_list[12])"
   ]
  },
  {
   "cell_type": "code",
   "execution_count": null,
   "metadata": {},
   "outputs": [],
   "source": []
  }
 ]
}