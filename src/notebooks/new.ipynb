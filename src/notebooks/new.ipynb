{
 "metadata": {
  "language_info": {
   "codemirror_mode": {
    "name": "ipython",
    "version": 3
   },
   "file_extension": ".py",
   "mimetype": "text/x-python",
   "name": "python",
   "nbconvert_exporter": "python",
   "pygments_lexer": "ipython3",
   "version": "3.7.9-final"
  },
  "orig_nbformat": 2,
  "kernelspec": {
   "name": "python3",
   "display_name": "Python 3.7.9 64-bit ('base': conda)",
   "metadata": {
    "interpreter": {
     "hash": "3fa126f4b0a9b797a967ff948bb2b3f1230e77355ff8c9d30e6f0af6fbba1830"
    }
   }
  }
 },
 "nbformat": 4,
 "nbformat_minor": 2,
 "cells": [
  {
   "cell_type": "code",
   "execution_count": 2,
   "metadata": {},
   "outputs": [],
   "source": [
    "import cv2"
   ]
  },
  {
   "cell_type": "code",
   "execution_count": 7,
   "metadata": {},
   "outputs": [],
   "source": [
    "import pytesseract"
   ]
  },
  {
   "cell_type": "code",
   "execution_count": 8,
   "metadata": {},
   "outputs": [],
   "source": [
    "pytesseract.pytesseract.tesseract_cmd = r'/usr/bin/tesseract'\n",
    "\n"
   ]
  },
  {
   "cell_type": "code",
   "execution_count": 118,
   "metadata": {},
   "outputs": [],
   "source": [
    "from PIL import Image \n",
    "import pytesseract \n",
    "import sys \n",
    "from pdf2image import convert_from_path \n",
    "import os \n",
    "from langdetect import detect\n",
    "\n",
    "# Path of the pdf \n",
    "PDF_file = \"100.pdf\"\n",
    "  \n",
    "''' \n",
    "Part #1 : Converting PDF to images \n",
    "'''\n",
    "  \n",
    "# Store all the pages of the PDF in a variable \n",
    "pages = convert_from_path(PDF_file, 500) \n",
    "  \n",
    "# Counter to store images of each page of PDF to image \n",
    "image_counter = 1\n",
    "  \n",
    "# Iterate through all the pages stored above \n",
    "for page in pages: \n",
    "  \n",
    "    # Declaring filename for each page of PDF as JPG \n",
    "    #filename = \"page_\"+str(image_counter)+\".jpg\"\n",
    "      \n",
    "    # Save the image of the page in system \n",
    "    #page.save(filename, 'JPEG') \n",
    "  \n",
    "    # Increment the counter to update filename \n",
    "    #image_counter = image_counter + 1\n",
    "  \n",
    "    ''' \n",
    "    Part #2 - Recognizing text from the images using OCR \n",
    "    '''\n",
    "    \n",
    "    # Variable to get count of total number of pages \n",
    "    #filelimit = image_counter-1\n",
    "    \n",
    "    # Creating a text file to write the output \n",
    "    #outfile = \"out_text.txt\"\n",
    "    \n",
    "    # Open the file in append mode so that  \n",
    "    # All contents of all images are added to the same file \n",
    "    #f = open(outfile, \"a\") \n",
    "\n",
    "    fr_list = []\n",
    "    \n",
    "    # Iterate from 1 to total number of pages \n",
    "    #for i in range(1, filelimit + 1): \n",
    "  \n",
    "    # Set filename to recognize text from \n",
    "    \n",
    "    #filename = \"page_\"+str(i)+\".jpg\"\n",
    "          \n",
    "    # Recognize the text as string in image using pytesserct \n",
    "    text = str(pytesseract.image_to_string(page)) \n",
    "  \n",
    "    text = text.replace('-\\n', '')\n",
    "\n",
    "    def text_to_list(text):\n",
    "        to_list = []\n",
    "        to_list = text.split('\\n\\n\\n')\n",
    "        to_list = list(filter(lambda x: x != \" \", to_list))\n",
    "    \n",
    "        return to_list\n",
    "\n",
    "\n",
    "    def is_french(stringx) :\n",
    "        try :\n",
    "            if detect(stringx.lower()) == 'fr' :\n",
    "                return True\n",
    "        except :\n",
    "                return False\n",
    "\n",
    "    text_list = text_to_list(text)\n",
    "    for line in text_list :\n",
    "        if is_french(line) :\n",
    "            fr_list.append(line.replace('\\n',' '))\n",
    "    \n",
    "\n",
    "  \n",
    "    # Finally, write the processed text to the file. \n",
    "    #f.write(text) \n",
    "  \n",
    "# Close the file after writing all the text. \n",
    "#f.close() "
   ]
  },
  {
   "cell_type": "code",
   "execution_count": 119,
   "metadata": {},
   "outputs": [
    {
     "output_type": "execute_result",
     "data": {
      "text/plain": [
       "['Chapitre V — Paix sociale',\n",
       " 'Les parties s’engagent a préserver la paix sociale en 2019-2020 et a ne formuler pendant cette période aucune exigence complémentaire au niveau sectoriel ou au niveau de |’entreprise. Chapitre VI — Durée',\n",
       " 'La présente convention collective de travail est conclue pour une durée indéterminée et entre en vigueur le 1% novembre 2019.',\n",
       " 'Elle peut étre résiliée par une des parties moyennant un préavis de 3 mois adressé par lettre recommandée au président de la Commission Paritaire Auxiliaire pour Ouvriers.']"
      ]
     },
     "metadata": {},
     "execution_count": 119
    }
   ],
   "source": [
    "fr_list"
   ]
  },
  {
   "cell_type": "code",
   "execution_count": 13,
   "metadata": {},
   "outputs": [
    {
     "output_type": "stream",
     "name": "stdout",
     "text": [
      " \n\nCOLLECTIEVE ARBEIDSOVEREENKOMST VAN 13\nNOVEMBER 2019 GESLOTEN IN HET\nAANVULLEND PARITAIR COMITE VOOR DE\nWERKLIEDEN BETREFFENDE HET SECTORAAL\nAKKOORD 2019-2020 — KOOPKRACHT\n\n \n\nHoofdstuk | Toepassingsgebied\n\nArtikel 1\n\nDeze collectieve arbeidsovereenkomst is van\ntoepassing op de werkgevers en de arbeiders van\nde ondernemingen die onder de bevoegcheid\nvallen van het Aanvullend Paritair Comité voor de\nWerklieden. Onder “arbeiders” wordt verstaan\nde mannelijke en vrouwelijke arbeiders.\nHoofdstuk II — Algemene bepaling\n\nArtikel 2\n\nDeze collectieve arbeidsovereenkomst is gesloten\nin het kader van het Koninklijk besluit van 19 april\n2019 tot uitvoering van artikel 7§1 van de Wet\nvan 26 juli 1996 ter bevordering van de\nwerkgelegenheid en en tot preventieve vrijwaring\nvan het concurrentievermogen.\n\nHoofdstuk II] — verhoging van minimumuurloon\nen van effectief uurloon\n\nArtikel 3\n\nHet minimumuurloon en het effectieve uurloon\nworden met 1,1% verhoogd vanaf 1/11/2019.\n\nDe verhoging van het effectieve uurloon is niet\nvan toepassing in de mate dat gelijkwaardige\neffectieve verhogingen van het loon en/of andere\nvoordelen aan dezelfde kost (bruto + patronale\nRSZ-bijdrage) in 2019-2020 op ondernemingsvlak\nworden toegekend, uitgezonderd bonussen in\nhet kader van cao nr. 90 en automatische\nverhogingen van het loon in toepassing van een\ncollectief vastgestelde loonschaal op\nondernemingsvlak.\n\nHet bedrag van de andere voordelen moet\nverifieerbaar zijn.\n\n \n\nNeerlegging-Dépét: 27/11/2019\nRegist.-Enregistr.: 16/12/2019\nN°: 155913/C0/100\n\nCONVENTION COLLECTIVE DE TRAVAILDU13\nNOVEMBRE 2019 CONCLUE AU SEIN DELA\nCOMMISSION PARITAIRE AUXILIAIRE POUR\nOUVRIERS RELATIVE A L’ACCORD SECTORIEL\n2019-2020 — POUVOIR D’ACHAT\n\nChapitre | Champ d’application\n\nArticle 1\nLa présente convention collective de travail\n\ns’applique aux employeurs et aux ouvriers des\nentreprises relevant de la compétence de la\nCommission Paritaire Auxiliaire pour Ouvriers.\nPar « ouvriers », on entend les ouvriers masculins\net féminins.\n\nChapitre II — Disposition générale\n\n \n\nArticle 2\n\nLa présente convention collective de travail est\nconclue dans le cadre de |’Arrété royal du 19 avril\n2019 portant exécution de l'article 7§1 de la Loi\ndu 26 juillet 1996 relative a la promotion de\nl'emploi et a la sauvegarde préventive de la\ncompétitivité.\n\nChapitre Ill — augmentation du salaire horaire\nminimum et du salaire horaire effectif\n\n \n\nArticle 3\n\nLe salaire horaire minimum et le salaire horaire\neffectif sont augmentés de 1,1% a partir du\n1/11/2019.\n\nL’augmentation du salaire horaire effectif n’est\npas d’application dans la mesure oti des\naugmentations effectives du salaire et/ou autres\navantages équivalents sont accordés en 2019-\n2020 au niveau de l’entreprise au méme cot\n(brut + cotisation patronale ONSS), a l’exception\nde bonus octroyés dans le cadre de la CCT n° 90\net des augmentations salariales automatiques en\napplication d’un baréme salarial fixé\ncollectivement au niveau de l’entreprise.\n\nLe montant des autres avantages doit étre\nvérifiable.\n\n \n\n \n\n \n\n \n\n \n\n \n\n \n\n \n\f\n"
     ]
    }
   ],
   "source": [
    "img = cv2.imread(\"page_1.jpg\")\n",
    "text = pytesseract.image_to_string(img)\n",
    "print(text)"
   ]
  },
  {
   "cell_type": "code",
   "execution_count": 19,
   "metadata": {},
   "outputs": [
    {
     "output_type": "stream",
     "name": "stdout",
     "text": [
      "Neerlegging-Dépôt: 27/11/2019 …\nRegist.-Enregistr.: 16/12/2019\nN°: 155913/CO/100\n\n \n\nCOLLECTIEVE ARBEIDSOVEREENKOMST VAN 13 | CONVENTION COLLECTIVE DE TRAVAILDU13\n\n \n\nNOVEMBER 2019 GESLOTEN IN HET NOVEMBRE 2019 CONCLUE AU SEIN DE LA\nAANVULLEND PARITAIR COMITÉ VOOR DE COMMISSION PARITAIRE AUXILIAIRE POUR\nWERKLIEDEN BETREFFENDE HET SECTORAAL OUVRIERS RELATIVE À L'ACCORD SECTORIEL\nAKKOORD 2019-2020 — KOOPKRACHT 2019-2020 — POUVOIR D'ACHAT\n\nHoofdstuk I Toepassingsgebied Chapitre | Champ d’application\n\n \n\nArtikel Article 1\n\nDeze collectieve arbeidsovereenkomst is van La présente convention collective de travail\ntoepassing op de werkgevers en de arbeiders van | s'applique aux employeurs et aux ouvriers des\n\nde ondernemingen die onder de bevoegdheid entreprises relevant de la compétence de la\nvallen van het Aanvullend Paritair Comité voor de | Commission Paritaire Auxiliaire pour Ouvriers.\nWerklieden. Onder “arbeiders” wordt verstaan Par « ouvriers », on entend les ouvriers masculins\nde mannelijke en vrouwelijke arbeiders. et féminins.\n\n \n\nHoofdstuk II - Algemene bepaling Chapitre 11 — Disposition générale\n\nArtikel 2 Article 2\n\nDeze collectieve arbeidsovereenkomst is gesloten | La présente convention collective de travail est\nin het kader van het Koninklijk besluit van 19 april | conclue dans le cadre de l’Arrêté royal du 19 avril\n2019 tot uitvoering van artikel 781 van de Wet 2019 portant exécution de l’article 781 de la Loi |\nvan 26 juli 1996 ter bevordering van de du 26 juillet 1996 relative à la promotion de\nwerkgelegenheid en en tot preventieve vrijwaring | l'emploi et à la sauvegarde préventive de la\nvan het concurrentievermogen. compétitivité. |\nHoofdstuk 11] - verhoging van minimumuurloon | Chapitre III - augmentation du salaire horaire\nen van effectief uurloon minimum et du salaire horaire effectif\n\n \n\n \n\nArtikel 3 Article 3\n\nHet minimumuurloon en het effectieve uurloon Le salaire horaire minimum et le salaire horaire\nworden met 1,1% verhoogd vanaf 1/11/2019. effectif sont augmentés de 1,1% à partir du\n1/11/2019.\n\n \n\nDe verhoging van het effectieve uurloon is niet L'augmentation du salaire horaire effectif n’est\nvan toepassing in de mate dat gelijkwaardige pas d’application dans la mesure où des\neffectieve verhogingen van het loon en/of andere | augmentations effectives du salaire et/ou autres\nvoordelen aan dezelfde kost (bruto + patronale avantages équivalents sont accordés en 2019-\nRSZ-bijdrage) in 2019-2020 op ondernemingsvlak | 2020 au niveau de l’entreprise au même coût\nworden toegekend, uitgezonderd bonussen in (brut + cotisation patronale ONSS), à l'exception\nhet kader van cao nr. 90 en automatische de bonus octroyés dans le cadre de la CCT n° 90\nverhogingen van het loon in toepassing van een et des augmentations salariales automatiques en\ncollectief vastgestelde loonschaal op application d’un barème salarial fixé\nondernemingsvlak. collectivement au niveau de l’entreprise.\n\nHet bedrag van de andere voordelen moet Le montant des autres avantages doit être !\nverifieerbaar zijn. vérifiable. |\n\n \n\f\n"
     ]
    }
   ],
   "source": [
    "image = cv2.imread(\"page_1.jpg\")\n",
    "rgb = cv2.cvtColor(image, cv2.COLOR_BGR2RGB)\n",
    "# OCR the image, supplying the country code as the language parameter\n",
    "config = \"--psm 3\"\n",
    "text = pytesseract.image_to_string(image,config=config, lang=\"fra\")\n",
    "\n",
    "print(text)"
   ]
  },
  {
   "cell_type": "code",
   "execution_count": 108,
   "metadata": {},
   "outputs": [],
   "source": [
    "from langdetect import detect\n",
    "\n",
    "\n",
    "def is_french(stringx) :\n",
    "    try :\n",
    "        if detect(stringx.lower()) == 'fr' :\n",
    "            return True\n",
    "    except :\n",
    "            return False\n",
    "\n",
    "fr_list = []\n",
    "for line in text_list :\n",
    "    if is_french(line) :\n",
    "        fr_list.append(line.replace('\\n',' '))\n",
    "        \n",
    "    \n",
    "\n",
    " \n",
    "\n",
    "#for line in mixed_text.strip().splitlines():\n",
    " # print(line + u\"\\n\")\n",
    " # for language in Detector(line).languages:\n",
    "  #  print(language)\n",
    " # print(\"\\n\")\n",
    " "
   ]
  },
  {
   "cell_type": "code",
   "execution_count": 56,
   "metadata": {},
   "outputs": [
    {
     "output_type": "execute_result",
     "data": {
      "text/plain": [
       "True"
      ]
     },
     "metadata": {},
     "execution_count": 56
    }
   ],
   "source": [
    "is_french(text_list[12].lower())"
   ]
  },
  {
   "cell_type": "code",
   "execution_count": 113,
   "metadata": {},
   "outputs": [
    {
     "output_type": "execute_result",
     "data": {
      "text/plain": [
       "'Le montant des autres avantages doit étre vérifiable.'"
      ]
     },
     "metadata": {},
     "execution_count": 113
    }
   ],
   "source": [
    "fr_list[9]"
   ]
  },
  {
   "cell_type": "code",
   "execution_count": 93,
   "metadata": {},
   "outputs": [
    {
     "output_type": "stream",
     "name": "stdout",
     "text": [
      "CONVENTION COLLECTIVE DE TRAVAILDU13\nNOVEMBRE 2019 CONCLUE AU SEIN DELA\nCOMMISSION PARITAIRE AUXILIAIRE POUR\nOUVRIERS RELATIVE A L’ACCORD SECTORIEL\n2019-2020 — POUVOIR D’ACHAT\n"
     ]
    }
   ],
   "source": [
    "print(text_list[12])"
   ]
  },
  {
   "cell_type": "code",
   "execution_count": null,
   "metadata": {},
   "outputs": [],
   "source": []
  }
 ]
}