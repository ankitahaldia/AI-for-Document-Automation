{
  "nbformat": 4,
  "nbformat_minor": 0,
  "metadata": {
    "language_info": {
      "codemirror_mode": {
        "name": "ipython",
        "version": 3
      },
      "file_extension": ".py",
      "mimetype": "text/x-python",
      "name": "python",
      "nbconvert_exporter": "python",
      "pygments_lexer": "ipython3",
      "version": "3.7.9-final"
    },
    "orig_nbformat": 2,
    "kernelspec": {
      "name": "python3",
      "display_name": "Python 3.7.9 64-bit ('miniconda3': virtualenv)",
      "metadata": {
        "interpreter": {
          "hash": "3fa126f4b0a9b797a967ff948bb2b3f1230e77355ff8c9d30e6f0af6fbba1830"
        }
      }
    },
    "colab": {
      "name": "new1122.ipynb",
      "provenance": [],
      "collapsed_sections": []
    }
  },
  "cells": [
    {
      "cell_type": "code",
      "metadata": {
        "colab": {
          "base_uri": "https://localhost:8080/"
        },
        "id": "ICUpzeJeAyj2",
        "outputId": "1c21a127-746c-40c8-ee0c-ad1758a2b9ad"
      },
      "source": [
        "# if you want to use on COLAB upload PDF files to your drive and set patth correctly my folder is \"pdfs\"\r\n",
        "# else commend this cell\r\n",
        "from google.colab import drive\r\n",
        "drive.mount('/content/drive')\r\n",
        "!cp drive/MyDrive/pdfs/test.pdf test.pdf"
      ],
      "execution_count": 1,
      "outputs": [
        {
          "output_type": "stream",
          "text": [
            "Mounted at /content/drive\n"
          ],
          "name": "stdout"
        }
      ]
    },
    {
      "cell_type": "code",
      "metadata": {
        "id": "Zn6_9Ve6KDdl",
        "colab": {
          "base_uri": "https://localhost:8080/"
        },
        "outputId": "863b540c-4e1d-493d-8025-579f547d6ca3"
      },
      "source": [
        "!pip install pytesseract pdf2image langdetect\r\n",
        "!pip install opencv-python==4.5.1.48\r\n",
        "!sudo apt install tesseract-ocr\r\n",
        "!apt-get install poppler-utils\r\n",
        "!apt-get install tesseract-ocr-fra"
      ],
      "execution_count": 2,
      "outputs": [
        {
          "output_type": "stream",
          "text": [
            "Collecting pytesseract\n",
            "  Downloading https://files.pythonhosted.org/packages/a0/e6/a4e9fc8a93c1318540e8de6d8d4beb5749b7960388a7c7f27799fc2dd016/pytesseract-0.3.7.tar.gz\n",
            "Collecting pdf2image\n",
            "  Downloading https://files.pythonhosted.org/packages/03/62/089030fd16ab3e5c245315d63c80b29250b8f9e4579b5a09306eb7e7539c/pdf2image-1.14.0-py3-none-any.whl\n",
            "Collecting langdetect\n",
            "\u001b[?25l  Downloading https://files.pythonhosted.org/packages/56/a3/8407c1e62d5980188b4acc45ef3d94b933d14a2ebc9ef3505f22cf772570/langdetect-1.0.8.tar.gz (981kB)\n",
            "\u001b[K     |████████████████████████████████| 983kB 12.9MB/s \n",
            "\u001b[?25hRequirement already satisfied: Pillow in /usr/local/lib/python3.7/dist-packages (from pytesseract) (7.0.0)\n",
            "Requirement already satisfied: six in /usr/local/lib/python3.7/dist-packages (from langdetect) (1.15.0)\n",
            "Building wheels for collected packages: pytesseract, langdetect\n",
            "  Building wheel for pytesseract (setup.py) ... \u001b[?25l\u001b[?25hdone\n",
            "  Created wheel for pytesseract: filename=pytesseract-0.3.7-py2.py3-none-any.whl size=13945 sha256=bdb8a6b3955e85e3935e7fcc48a64ac978820aec0fd5c165e06ba70e1616601b\n",
            "  Stored in directory: /root/.cache/pip/wheels/81/20/7e/1dd0daad1575d5260916bb1e9781246430647adaef4b3ca3b3\n",
            "  Building wheel for langdetect (setup.py) ... \u001b[?25l\u001b[?25hdone\n",
            "  Created wheel for langdetect: filename=langdetect-1.0.8-cp37-none-any.whl size=993193 sha256=477ebef73e33aa51d9ef1d357e11f0eadbf75ce4e14c1cec9f1853c7cc2d9593\n",
            "  Stored in directory: /root/.cache/pip/wheels/8d/b3/aa/6d99de9f3841d7d3d40a60ea06e6d669e8e5012e6c8b947a57\n",
            "Successfully built pytesseract langdetect\n",
            "Installing collected packages: pytesseract, pdf2image, langdetect\n",
            "Successfully installed langdetect-1.0.8 pdf2image-1.14.0 pytesseract-0.3.7\n",
            "Collecting opencv-python==4.5.1.48\n",
            "\u001b[?25l  Downloading https://files.pythonhosted.org/packages/0f/13/192104516c4a3d92dc6b5e106ffcfbf0fe35f3c4faa49650205ff652af72/opencv_python-4.5.1.48-cp37-cp37m-manylinux2014_x86_64.whl (50.4MB)\n",
            "\u001b[K     |████████████████████████████████| 50.4MB 87kB/s \n",
            "\u001b[?25hRequirement already satisfied: numpy>=1.14.5 in /usr/local/lib/python3.7/dist-packages (from opencv-python==4.5.1.48) (1.19.5)\n",
            "\u001b[31mERROR: albumentations 0.1.12 has requirement imgaug<0.2.7,>=0.2.5, but you'll have imgaug 0.2.9 which is incompatible.\u001b[0m\n",
            "Installing collected packages: opencv-python\n",
            "  Found existing installation: opencv-python 4.1.2.30\n",
            "    Uninstalling opencv-python-4.1.2.30:\n",
            "      Successfully uninstalled opencv-python-4.1.2.30\n",
            "Successfully installed opencv-python-4.5.1.48\n",
            "Reading package lists... Done\n",
            "Building dependency tree       \n",
            "Reading state information... Done\n",
            "The following additional packages will be installed:\n",
            "  tesseract-ocr-eng tesseract-ocr-osd\n",
            "The following NEW packages will be installed:\n",
            "  tesseract-ocr tesseract-ocr-eng tesseract-ocr-osd\n",
            "0 upgraded, 3 newly installed, 0 to remove and 29 not upgraded.\n",
            "Need to get 4,795 kB of archives.\n",
            "After this operation, 15.8 MB of additional disk space will be used.\n",
            "Get:1 http://archive.ubuntu.com/ubuntu bionic/universe amd64 tesseract-ocr-eng all 4.00~git24-0e00fe6-1.2 [1,588 kB]\n",
            "Get:2 http://archive.ubuntu.com/ubuntu bionic/universe amd64 tesseract-ocr-osd all 4.00~git24-0e00fe6-1.2 [2,989 kB]\n",
            "Get:3 http://archive.ubuntu.com/ubuntu bionic/universe amd64 tesseract-ocr amd64 4.00~git2288-10f4998a-2 [218 kB]\n",
            "Fetched 4,795 kB in 0s (27.5 MB/s)\n",
            "debconf: unable to initialize frontend: Dialog\n",
            "debconf: (No usable dialog-like program is installed, so the dialog based frontend cannot be used. at /usr/share/perl5/Debconf/FrontEnd/Dialog.pm line 76, <> line 3.)\n",
            "debconf: falling back to frontend: Readline\n",
            "debconf: unable to initialize frontend: Readline\n",
            "debconf: (This frontend requires a controlling tty.)\n",
            "debconf: falling back to frontend: Teletype\n",
            "dpkg-preconfigure: unable to re-open stdin: \n",
            "Selecting previously unselected package tesseract-ocr-eng.\n",
            "(Reading database ... 160975 files and directories currently installed.)\n",
            "Preparing to unpack .../tesseract-ocr-eng_4.00~git24-0e00fe6-1.2_all.deb ...\n",
            "Unpacking tesseract-ocr-eng (4.00~git24-0e00fe6-1.2) ...\n",
            "Selecting previously unselected package tesseract-ocr-osd.\n",
            "Preparing to unpack .../tesseract-ocr-osd_4.00~git24-0e00fe6-1.2_all.deb ...\n",
            "Unpacking tesseract-ocr-osd (4.00~git24-0e00fe6-1.2) ...\n",
            "Selecting previously unselected package tesseract-ocr.\n",
            "Preparing to unpack .../tesseract-ocr_4.00~git2288-10f4998a-2_amd64.deb ...\n",
            "Unpacking tesseract-ocr (4.00~git2288-10f4998a-2) ...\n",
            "Setting up tesseract-ocr-osd (4.00~git24-0e00fe6-1.2) ...\n",
            "Setting up tesseract-ocr-eng (4.00~git24-0e00fe6-1.2) ...\n",
            "Setting up tesseract-ocr (4.00~git2288-10f4998a-2) ...\n",
            "Processing triggers for man-db (2.8.3-2ubuntu0.1) ...\n",
            "Reading package lists... Done\n",
            "Building dependency tree       \n",
            "Reading state information... Done\n",
            "The following NEW packages will be installed:\n",
            "  poppler-utils\n",
            "0 upgraded, 1 newly installed, 0 to remove and 29 not upgraded.\n",
            "Need to get 154 kB of archives.\n",
            "After this operation, 613 kB of additional disk space will be used.\n",
            "Get:1 http://archive.ubuntu.com/ubuntu bionic-updates/main amd64 poppler-utils amd64 0.62.0-2ubuntu2.12 [154 kB]\n",
            "Fetched 154 kB in 0s (2,179 kB/s)\n",
            "Selecting previously unselected package poppler-utils.\n",
            "(Reading database ... 161022 files and directories currently installed.)\n",
            "Preparing to unpack .../poppler-utils_0.62.0-2ubuntu2.12_amd64.deb ...\n",
            "Unpacking poppler-utils (0.62.0-2ubuntu2.12) ...\n",
            "Setting up poppler-utils (0.62.0-2ubuntu2.12) ...\n",
            "Processing triggers for man-db (2.8.3-2ubuntu0.1) ...\n",
            "Reading package lists... Done\n",
            "Building dependency tree       \n",
            "Reading state information... Done\n",
            "The following NEW packages will be installed:\n",
            "  tesseract-ocr-fra\n",
            "0 upgraded, 1 newly installed, 0 to remove and 29 not upgraded.\n",
            "Need to get 527 kB of archives.\n",
            "After this operation, 1,145 kB of additional disk space will be used.\n",
            "Get:1 http://archive.ubuntu.com/ubuntu bionic/universe amd64 tesseract-ocr-fra all 4.00~git24-0e00fe6-1.2 [527 kB]\n",
            "Fetched 527 kB in 0s (6,385 kB/s)\n",
            "Selecting previously unselected package tesseract-ocr-fra.\n",
            "(Reading database ... 161050 files and directories currently installed.)\n",
            "Preparing to unpack .../tesseract-ocr-fra_4.00~git24-0e00fe6-1.2_all.deb ...\n",
            "Unpacking tesseract-ocr-fra (4.00~git24-0e00fe6-1.2) ...\n",
            "Setting up tesseract-ocr-fra (4.00~git24-0e00fe6-1.2) ...\n"
          ],
          "name": "stdout"
        }
      ]
    },
    {
      "cell_type": "code",
      "metadata": {
        "id": "g1zxAakK_HMM"
      },
      "source": [
        "from pdf2image import convert_from_path \n",
        "from pytesseract import Output \n",
        "from langdetect import detect\n",
        "from PIL import Image \n",
        "import pandas as pd\n",
        "import numpy as np\n",
        "import pytesseract \n",
        "import sys \n",
        "import cv2\n",
        "import os \n",
        "pytesseract.pytesseract.tesseract_cmd = r'/usr/bin/tesseract'"
      ],
      "execution_count": 1,
      "outputs": []
    },
    {
      "cell_type": "code",
      "metadata": {
        "id": "1BNwHq5SfEGM"
      },
      "source": [
        "# !ls"
      ],
      "execution_count": 4,
      "outputs": []
    },
    {
      "cell_type": "code",
      "metadata": {
        "id": "1EirOpaQvTDJ"
      },
      "source": [
        "def pdf_to_images(PDF_file) :\r\n",
        "    pages = convert_from_path(PDF_file, 300)  # DPI\r\n",
        "    image_counter = 1\r\n",
        "    for page in pages:\r\n",
        "      filename = PDF_file+\"_\"+str(image_counter)+\".jpg\"\r\n",
        "      page.save(filename, 'JPEG') \r\n",
        "      image_counter += 1\r\n",
        "    return pages\r\n",
        "\r\n",
        "def is_french(stringx) :\r\n",
        "    try :\r\n",
        "        if detect(stringx.lower()) == 'fr' :\r\n",
        "            return True\r\n",
        "    except :\r\n",
        "        return False"
      ],
      "execution_count": 2,
      "outputs": []
    },
    {
      "cell_type": "code",
      "metadata": {
        "id": "hwxnhd5bN9G0"
      },
      "source": [
        "################################# We can adapt this code to pipeline############################################\r\n",
        "        # text_list = text_to_list(text)\r\n",
        "        # for line in text_list :\r\n",
        "        #   if is_french(line) or line.startswith('Artic') or line.startswith('§')  :\r\n",
        "        #     # if is_french(line) or line.startswith('Artic')  :\r\n",
        "        #     fr_list.append(line.replace('\\n',' '))"
      ],
      "execution_count": 6,
      "outputs": []
    },
    {
      "cell_type": "code",
      "metadata": {
        "id": "yi8meTYkzeuo"
      },
      "source": [
        "##### Functions for the Pipeline start here #####\r\n",
        "# 1 - call English NLP and store results to a variable (because it finds § symbol perfectly)\r\n",
        "def en_nlp_for_symbol(filename):  \r\n",
        "  d = pytesseract.image_to_data(filename, output_type=Output.DICT)\r\n",
        "  return d.copy()"
      ],
      "execution_count": 3,
      "outputs": []
    },
    {
      "cell_type": "code",
      "metadata": {
        "id": "6hvo4bgFmpzs"
      },
      "source": [
        "# 2 - call French NLP and store results to another variable\r\n",
        "def fr_nlp_for_symbol(filename):  \r\n",
        "  d = pytesseract.image_to_data(filename, output_type=Output.DICT, lang=\"fra\")\r\n",
        "  return d.copy()"
      ],
      "execution_count": 4,
      "outputs": []
    },
    {
      "cell_type": "code",
      "metadata": {
        "id": "puv_2NaBqPF-"
      },
      "source": [
        "### if you like you can SAVE and SEE boxed PDF image for fr_nlp and en_nlp USE this code ###\r\n",
        "### n_boxes = len(d['level'])\r\n",
        "### for i in range(n_boxes):\r\n",
        "###   if(d['text'][i] != \"\"):\r\n",
        "###     (x, y, w, h) = (d['left'][i], d['top'][i], d['width'][i], d['height'][i])\r\n",
        "###     cv2.rectangle(img, (x, y), (x + w, y + h), (0, 255, 0), 2)\r\n",
        "### cv2.imwrite('orhan2.png', img) ###"
      ],
      "execution_count": 5,
      "outputs": []
    },
    {
      "cell_type": "code",
      "metadata": {
        "id": "qdhJLrV87yrL"
      },
      "source": [
        "# 3 - from English NLP results, system collect all § symbols coordinates and index info in a list\r\n",
        "def info_from_en_nlp_symbol(en_nlp, symbol=\"§\"):\r\n",
        "  pos_list=[]         # list has records in a tuple (index of English NLP, [coordinates,top,left,...])    \r\n",
        "  for t in range(len(en_nlp['text'])):\r\n",
        "    if symbol in en_nlp['text'][t]:\r\n",
        "      pos_list.append([t,[en_nlp['left'][t], en_nlp['top'][t], en_nlp['width'][t], en_nlp['height'][t]]])\r\n",
        "  return pos_list"
      ],
      "execution_count": 6,
      "outputs": []
    },
    {
      "cell_type": "code",
      "metadata": {
        "id": "Fx8gzW9oTQDd"
      },
      "source": [
        "# 4 - match all § symbols coordinates with French NLP results and make a list\r\n",
        "def match_lists_en_and_fr_nlps(fr_nlp,pos_list, tolerans=1):   # give one pixel tolerans to match Fr and En NLPs\r\n",
        "  match_list=[]  # x[0] = left ,  x[1] = top , x[2] = width , x[3] = height ,\r\n",
        "  for k in pos_list:#for k,(a,x) in enumerate(pos_list):\r\n",
        "    for l0 in range(len(fr_nlp[\"left\"])):  \r\n",
        "      if ( fr_nlp[\"left\"][l0] + tolerans > k[1][0] ) and ( fr_nlp[\"left\"][l0] - tolerans < k[1][0] ):\r\n",
        "        if ( fr_nlp[\"top\"][l0] + tolerans > k[1][1] ) and ( fr_nlp[\"top\"][l0] - tolerans < k[1][1] ):\r\n",
        "          if ( fr_nlp[\"width\"][l0] + tolerans > k[1][2] ) and ( fr_nlp[\"width\"][l0] - tolerans < k[1][2] ):\r\n",
        "            if ( fr_nlp[\"height\"][l0] + tolerans > k[1][3] ) and ( fr_nlp[\"height\"][l0] - tolerans < k[1][3] ):            \r\n",
        "              match_list.append([l0,[fr_nlp['left'][l0], fr_nlp['top'][l0], fr_nlp['width'][l0], fr_nlp['height'][l0]]])#print(fr_nlp[\"text\"][l0],\" , index = \",l0,fr_nlp[\"left\"][l0],fr_nlp[\"top\"][l0],fr_nlp[\"width\"][l0],fr_nlp[\"height\"][l0])\r\n",
        "  return match_list"
      ],
      "execution_count": 7,
      "outputs": []
    },
    {
      "cell_type": "code",
      "metadata": {
        "id": "S2ORYNJrVuL0"
      },
      "source": [
        "# 5 - Delete all duplicates from matched boxes list\r\n",
        "def delete_dublicates_from_list(match_list):\r\n",
        "  delete_list=[]\r\n",
        "  for k in match_list:\r\n",
        "    cont_list=[]\r\n",
        "    for k1 in match_list:\r\n",
        "      if k[1]==k1[1]:\r\n",
        "        cont_list.append(k1[0])\r\n",
        "    for element in cont_list:\r\n",
        "      if max(cont_list)!= element: \r\n",
        "        delete_list.append(element)\r\n",
        "  for d in list(dict.fromkeys(delete_list)):\r\n",
        "    for m in match_list:\r\n",
        "      if m[0] == d:\r\n",
        "        match_list.pop(match_list.index(m))  # print(len(match_list),match_list)\r\n",
        "  return match_list"
      ],
      "execution_count": 8,
      "outputs": []
    },
    {
      "cell_type": "code",
      "metadata": {
        "id": "6bqAe2Sg6qJh"
      },
      "source": [
        "# 7 - call is French function to filter to get just French results\r\n",
        "def df_fr_sentences(df_fr):\r\n",
        "  df_fr_filtered = pd.DataFrame()\r\n",
        "  df_fr_filtered[\"id\"]=list(df_fr.index.values)\r\n",
        "  df_fr_filtered[\"fullsentence\"] =df_fr.groupby(['block_num','par_num'])['text'].transform(' '.join)\r\n",
        "  df_fr_filtered[\"fullsentence\"] = df_fr_filtered[\"fullsentence\"].str.lstrip(' ')\r\n",
        "  for i in range(20):\r\n",
        "    df_fr_filtered[\"fullsentence\"] = df_fr_filtered[\"fullsentence\"].replace([\"      \",\"     \",\"    \",\"   \",\"  \"],\"\")\r\n",
        "  # left\ttop\twidth\theight\tconf\ttext\tfullsentence\r\n",
        "  # for x in  df_fr_filtered:\r\n",
        "  #   if(x['left'])\r\n",
        "  # df_fr_filtered[\"fullsentence\"].startswith('§') ve left\ttop\twidth\theight esit ise sadece max al diger sil\r\n",
        "\r\n",
        "  df_fr_filtered = df_fr_filtered.drop(df_fr_filtered[df_fr_filtered[\"fullsentence\"] == \"\"].index , axis=0)\r\n",
        "  df_fr_filtered = df_fr_filtered.drop(df_fr_filtered[df_fr_filtered[\"fullsentence\"] == \" \"].index , axis=0)\r\n",
        "  # check before and later paragraphs if they in NL skip that symbol\r\n",
        "  # check before and later paragraphs if they in NL skip that art\r\n",
        "  nl_sen = pd.Series([True if (is_french(x) or x.startswith('Art') or x.startswith('§')) else False for x in df_fr_filtered[\"fullsentence\"]])\r\n",
        "\r\n",
        "  return df_fr_filtered.loc[nl_sen.fillna(False).values]"
      ],
      "execution_count": 9,
      "outputs": []
    },
    {
      "cell_type": "code",
      "metadata": {
        "id": "Q5frIS-U6g8B"
      },
      "source": [
        "### PIPELINE OF MERGING TWO NLP RESULTS TO BE ABLE TO GET FRENCH CHARACTERSET AND § SYMBOL\r\n",
        "\r\n",
        "def fill_fr_nlp_from_en_nlp(image_name):\r\n",
        "  # 1 - call English NLP and store results to a variable (because it finds § symbol perfectly)\r\n",
        "  en_nlp = en_nlp_for_symbol(image_name) # 300 dpi is recommended for OCR image files.\r\n",
        "  df_en = pd.DataFrame(en_nlp)  \r\n",
        "\r\n",
        "  # 2 - call French NLP and store results to another variable\r\n",
        "  fr_nlp = fr_nlp_for_symbol(image_name)\r\n",
        "  df_fr = pd.DataFrame(fr_nlp)  \r\n",
        "\r\n",
        "  # 3 - from English NLP results, system collect all § symbols coordinates and index info in a list\r\n",
        "  pos_en = info_from_en_nlp_symbol(en_nlp)\r\n",
        "\r\n",
        "  # 4 - match all § symbols coordinates with French NLP results and make a list\r\n",
        "  pos_fr = match_lists_en_and_fr_nlps(fr_nlp, pos_en)\r\n",
        "\r\n",
        "  # 5 - Delete all duplicates from match list\r\n",
        "  pos_fr = delete_dublicates_from_list(pos_fr)\r\n",
        "\r\n",
        "  # 6 - Change French results with desired characters\r\n",
        "  for m in pos_fr:\r\n",
        "    df_fr[\"text\"][m[0]] = df_en[\"text\"][pos_en[pos_fr.index(m)][0]]\r\n",
        "  \r\n",
        "  # 7 - call is French function to filter to get just French results\r\n",
        "  \r\n",
        "  df_fr_sent = df_fr_sentences(df_fr)\r\n",
        "  \r\n",
        "  df_fr[\"id\"] = df_fr.index.values\r\n",
        "  df_fr_merged = pd.merge(df_fr, df_fr_sent, how='inner', on=['id'])\r\n",
        "  \r\n",
        "  return df_fr_merged, df_fr #, df_en , match_list, pos_list"
      ],
      "execution_count": 10,
      "outputs": []
    },
    {
      "cell_type": "code",
      "metadata": {
        "id": "QBgiEWwUuC9Y"
      },
      "source": [
        "pages = pdf_to_images(\"test.pdf\") # this cell and next cell can merge to have a function"
      ],
      "execution_count": 11,
      "outputs": [
        {
          "output_type": "error",
          "ename": "PDFPageCountError",
          "evalue": "Unable to get page count.\nI/O Error: Couldn't open file 'test.pdf': No such file or directory.\n",
          "traceback": [
            "\u001b[0;31m---------------------------------------------------------------------------\u001b[0m",
            "\u001b[0;31mValueError\u001b[0m                                Traceback (most recent call last)",
            "\u001b[0;32m~/miniconda3/lib/python3.7/site-packages/pdf2image/pdf2image.py\u001b[0m in \u001b[0;36mpdfinfo_from_path\u001b[0;34m(pdf_path, userpw, poppler_path)\u001b[0m\n\u001b[1;32m    435\u001b[0m         \u001b[0;32mif\u001b[0m \u001b[0;34m\"Pages\"\u001b[0m \u001b[0;32mnot\u001b[0m \u001b[0;32min\u001b[0m \u001b[0md\u001b[0m\u001b[0;34m:\u001b[0m\u001b[0;34m\u001b[0m\u001b[0;34m\u001b[0m\u001b[0m\n\u001b[0;32m--> 436\u001b[0;31m             \u001b[0;32mraise\u001b[0m \u001b[0mValueError\u001b[0m\u001b[0;34m\u001b[0m\u001b[0;34m\u001b[0m\u001b[0m\n\u001b[0m\u001b[1;32m    437\u001b[0m \u001b[0;34m\u001b[0m\u001b[0m\n",
            "\u001b[0;31mValueError\u001b[0m: ",
            "\nDuring handling of the above exception, another exception occurred:\n",
            "\u001b[0;31mPDFPageCountError\u001b[0m                         Traceback (most recent call last)",
            "\u001b[0;32m<ipython-input-11-aa85b2585f42>\u001b[0m in \u001b[0;36m<module>\u001b[0;34m\u001b[0m\n\u001b[0;32m----> 1\u001b[0;31m \u001b[0mpages\u001b[0m \u001b[0;34m=\u001b[0m \u001b[0mpdf_to_images\u001b[0m\u001b[0;34m(\u001b[0m\u001b[0;34m\"test.pdf\"\u001b[0m\u001b[0;34m)\u001b[0m \u001b[0;31m# this cell and next cell can merge to have a function\u001b[0m\u001b[0;34m\u001b[0m\u001b[0;34m\u001b[0m\u001b[0m\n\u001b[0m",
            "\u001b[0;32m<ipython-input-2-035902029599>\u001b[0m in \u001b[0;36mpdf_to_images\u001b[0;34m(PDF_file)\u001b[0m\n\u001b[1;32m      1\u001b[0m \u001b[0;32mdef\u001b[0m \u001b[0mpdf_to_images\u001b[0m\u001b[0;34m(\u001b[0m\u001b[0mPDF_file\u001b[0m\u001b[0;34m)\u001b[0m \u001b[0;34m:\u001b[0m\u001b[0;34m\u001b[0m\u001b[0;34m\u001b[0m\u001b[0m\n\u001b[0;32m----> 2\u001b[0;31m     \u001b[0mpages\u001b[0m \u001b[0;34m=\u001b[0m \u001b[0mconvert_from_path\u001b[0m\u001b[0;34m(\u001b[0m\u001b[0mPDF_file\u001b[0m\u001b[0;34m,\u001b[0m \u001b[0;36m300\u001b[0m\u001b[0;34m)\u001b[0m  \u001b[0;31m# DPI\u001b[0m\u001b[0;34m\u001b[0m\u001b[0;34m\u001b[0m\u001b[0m\n\u001b[0m\u001b[1;32m      3\u001b[0m     \u001b[0mimage_counter\u001b[0m \u001b[0;34m=\u001b[0m \u001b[0;36m1\u001b[0m\u001b[0;34m\u001b[0m\u001b[0;34m\u001b[0m\u001b[0m\n\u001b[1;32m      4\u001b[0m     \u001b[0;32mfor\u001b[0m \u001b[0mpage\u001b[0m \u001b[0;32min\u001b[0m \u001b[0mpages\u001b[0m\u001b[0;34m:\u001b[0m\u001b[0;34m\u001b[0m\u001b[0;34m\u001b[0m\u001b[0m\n\u001b[1;32m      5\u001b[0m       \u001b[0mfilename\u001b[0m \u001b[0;34m=\u001b[0m \u001b[0mPDF_file\u001b[0m\u001b[0;34m+\u001b[0m\u001b[0;34m\"_\"\u001b[0m\u001b[0;34m+\u001b[0m\u001b[0mstr\u001b[0m\u001b[0;34m(\u001b[0m\u001b[0mimage_counter\u001b[0m\u001b[0;34m)\u001b[0m\u001b[0;34m+\u001b[0m\u001b[0;34m\".jpg\"\u001b[0m\u001b[0;34m\u001b[0m\u001b[0;34m\u001b[0m\u001b[0m\n",
            "\u001b[0;32m~/miniconda3/lib/python3.7/site-packages/pdf2image/pdf2image.py\u001b[0m in \u001b[0;36mconvert_from_path\u001b[0;34m(pdf_path, dpi, output_folder, first_page, last_page, fmt, jpegopt, thread_count, userpw, use_cropbox, strict, transparent, single_file, output_file, poppler_path, grayscale, size, paths_only, use_pdftocairo)\u001b[0m\n\u001b[1;32m     92\u001b[0m         \u001b[0mpoppler_path\u001b[0m \u001b[0;34m=\u001b[0m \u001b[0mpoppler_path\u001b[0m\u001b[0;34m.\u001b[0m\u001b[0mas_posix\u001b[0m\u001b[0;34m(\u001b[0m\u001b[0;34m)\u001b[0m\u001b[0;34m\u001b[0m\u001b[0;34m\u001b[0m\u001b[0m\n\u001b[1;32m     93\u001b[0m \u001b[0;34m\u001b[0m\u001b[0m\n\u001b[0;32m---> 94\u001b[0;31m     \u001b[0mpage_count\u001b[0m \u001b[0;34m=\u001b[0m \u001b[0mpdfinfo_from_path\u001b[0m\u001b[0;34m(\u001b[0m\u001b[0mpdf_path\u001b[0m\u001b[0;34m,\u001b[0m \u001b[0muserpw\u001b[0m\u001b[0;34m,\u001b[0m \u001b[0mpoppler_path\u001b[0m\u001b[0;34m=\u001b[0m\u001b[0mpoppler_path\u001b[0m\u001b[0;34m)\u001b[0m\u001b[0;34m[\u001b[0m\u001b[0;34m\"Pages\"\u001b[0m\u001b[0;34m]\u001b[0m\u001b[0;34m\u001b[0m\u001b[0;34m\u001b[0m\u001b[0m\n\u001b[0m\u001b[1;32m     95\u001b[0m \u001b[0;34m\u001b[0m\u001b[0m\n\u001b[1;32m     96\u001b[0m     \u001b[0;31m# We start by getting the output format, the buffer processing function and if we need pdftocairo\u001b[0m\u001b[0;34m\u001b[0m\u001b[0;34m\u001b[0m\u001b[0;34m\u001b[0m\u001b[0m\n",
            "\u001b[0;32m~/miniconda3/lib/python3.7/site-packages/pdf2image/pdf2image.py\u001b[0m in \u001b[0;36mpdfinfo_from_path\u001b[0;34m(pdf_path, userpw, poppler_path)\u001b[0m\n\u001b[1;32m    444\u001b[0m     \u001b[0;32mexcept\u001b[0m \u001b[0mValueError\u001b[0m\u001b[0;34m:\u001b[0m\u001b[0;34m\u001b[0m\u001b[0;34m\u001b[0m\u001b[0m\n\u001b[1;32m    445\u001b[0m         raise PDFPageCountError(\n\u001b[0;32m--> 446\u001b[0;31m             \u001b[0;34m\"Unable to get page count.\\n%s\"\u001b[0m \u001b[0;34m%\u001b[0m \u001b[0merr\u001b[0m\u001b[0;34m.\u001b[0m\u001b[0mdecode\u001b[0m\u001b[0;34m(\u001b[0m\u001b[0;34m\"utf8\"\u001b[0m\u001b[0;34m,\u001b[0m \u001b[0;34m\"ignore\"\u001b[0m\u001b[0;34m)\u001b[0m\u001b[0;34m\u001b[0m\u001b[0;34m\u001b[0m\u001b[0m\n\u001b[0m\u001b[1;32m    447\u001b[0m         )\n\u001b[1;32m    448\u001b[0m \u001b[0;34m\u001b[0m\u001b[0m\n",
            "\u001b[0;31mPDFPageCountError\u001b[0m: Unable to get page count.\nI/O Error: Couldn't open file 'test.pdf': No such file or directory.\n"
          ]
        }
      ]
    },
    {
      "cell_type": "code",
      "metadata": {
        "id": "aCo08cPRerwD",
        "colab": {
          "base_uri": "https://localhost:8080/"
        },
        "outputId": "763b2d91-0549-440c-8127-307844d24138"
      },
      "source": [
        "df_fr_merged_full = pd.DataFrame(columns = ['id','level', 'page_num', 'block_num', 'par_num', 'line_num', 'word_num', 'left', 'top', 'width', 'height', 'conf', 'text'])\r\n",
        "df_fr_full = pd.DataFrame(columns = ['id','level', 'page_num', 'block_num', 'par_num', 'line_num', 'word_num', 'left', 'top', 'width', 'height', 'conf', 'text'])\r\n",
        "print(f\"this document has {len(pages) } pages the process has started ...\"\n",
        "# for page in page    s:\r\n",
        "df_fr_merged, df_fr = fill_fr_nlp_from_en_nlp(pages[0]    )  \r\n",
        "del df_fr_merged[\"page_num\"    ]   \r\n",
        "del df_fr[\"page_num    \"]   \r\n",
        "df_fr_merged[\"page_num\"] = pages.index(pages[0]    ) + 1 \r\n",
        "df_fr[\"page_num\"] = pages.index(pages[0    ]) + 1 \r\n",
        "df_fr_merged_full = df_fr_full.append(df_fr    _merged)\r\n",
        "df_fr_full = df_fr_full.appe    nd(df_fr)\r\n",
        "print(f\"{pages.index(pages[0]) + 1}. page is     finished\")\r\n",
        "df_fr_merged_full = df_fr_merged_full.reset_index    (drop=True)\r\n",
        "df_fr_full = df_fr_full.reset_index(drop=True)"
      ],
      "execution_count": 16,
      "outputs": [
        {
          "output_type": "stream",
          "text": [
            "this document has 7 pages the process has started ...\n"
          ],
          "name": "stdout"
        },
        {
          "output_type": "stream",
          "text": [
            "/usr/local/lib/python3.7/dist-packages/ipykernel_launcher.py:23: SettingWithCopyWarning: \n",
            "A value is trying to be set on a copy of a slice from a DataFrame\n",
            "\n",
            "See the caveats in the documentation: https://pandas.pydata.org/pandas-docs/stable/user_guide/indexing.html#returning-a-view-versus-a-copy\n"
          ],
          "name": "stderr"
        },
        {
          "output_type": "stream",
          "text": [
            "1. page is finished\n"
          ],
          "name": "stdout"
        }
      ]
    },
    {
      "cell_type": "code",
      "metadata": {
        "id": "BpSmCu5RJ_zN",
        "colab": {
          "base_uri": "https://localhost:8080/"
        },
        "outputId": "6a5a7ffd-68e9-4306-8017-e3e5b61c23e2"
      },
      "source": [
        "# df_fr_full[[True if (('-1'==x[\"conf\"]) and (\" \" not in x[\"text\"])) else False for x in df_fr_full]]\r\n",
        "[True if (\" \" not in x) else False for x in df_fr_full[[True if (('-1'==x)) else False for x in df_fr_full[\"conf\"]]][\"text\"]]\r\n",
        "# df_fr_full[[\"LA\" in x for x in df_fr_full[\"text\"]]]\r\n"
      ],
      "execution_count": 17,
      "outputs": [
        {
          "output_type": "execute_result",
          "data": {
            "text/plain": [
              "[True,\n",
              " True,\n",
              " True,\n",
              " True,\n",
              " True,\n",
              " True,\n",
              " True,\n",
              " True,\n",
              " True,\n",
              " True,\n",
              " True,\n",
              " True,\n",
              " True,\n",
              " True,\n",
              " True,\n",
              " True,\n",
              " True,\n",
              " True,\n",
              " True,\n",
              " True,\n",
              " True,\n",
              " True,\n",
              " True,\n",
              " True,\n",
              " True,\n",
              " True,\n",
              " True,\n",
              " True,\n",
              " True,\n",
              " True,\n",
              " True,\n",
              " True,\n",
              " True,\n",
              " True,\n",
              " True,\n",
              " True,\n",
              " True,\n",
              " True,\n",
              " True,\n",
              " True,\n",
              " True,\n",
              " True,\n",
              " True,\n",
              " True,\n",
              " True,\n",
              " True,\n",
              " True,\n",
              " True,\n",
              " True,\n",
              " True,\n",
              " True,\n",
              " True,\n",
              " True,\n",
              " True,\n",
              " True,\n",
              " True,\n",
              " True,\n",
              " True,\n",
              " True,\n",
              " True,\n",
              " True,\n",
              " True,\n",
              " True,\n",
              " True,\n",
              " True,\n",
              " True,\n",
              " True,\n",
              " True,\n",
              " True,\n",
              " True,\n",
              " True,\n",
              " True,\n",
              " True,\n",
              " True,\n",
              " True,\n",
              " True,\n",
              " True,\n",
              " True,\n",
              " True,\n",
              " True,\n",
              " True,\n",
              " True,\n",
              " True,\n",
              " True,\n",
              " True,\n",
              " True,\n",
              " True,\n",
              " True,\n",
              " True,\n",
              " True,\n",
              " True,\n",
              " True,\n",
              " True,\n",
              " True,\n",
              " True,\n",
              " True,\n",
              " True,\n",
              " True,\n",
              " True,\n",
              " True,\n",
              " True,\n",
              " True,\n",
              " True,\n",
              " True,\n",
              " True,\n",
              " True,\n",
              " True,\n",
              " True,\n",
              " True,\n",
              " True,\n",
              " True,\n",
              " True,\n",
              " True,\n",
              " True,\n",
              " True,\n",
              " True,\n",
              " True,\n",
              " True,\n",
              " True,\n",
              " True,\n",
              " True,\n",
              " True,\n",
              " True,\n",
              " True,\n",
              " True,\n",
              " True,\n",
              " True,\n",
              " True,\n",
              " True,\n",
              " True,\n",
              " True,\n",
              " True,\n",
              " True,\n",
              " True,\n",
              " True,\n",
              " True,\n",
              " True,\n",
              " True,\n",
              " True,\n",
              " True,\n",
              " True,\n",
              " True,\n",
              " True,\n",
              " True,\n",
              " True,\n",
              " True,\n",
              " True,\n",
              " True,\n",
              " True,\n",
              " True,\n",
              " True,\n",
              " True,\n",
              " True,\n",
              " True,\n",
              " True,\n",
              " True,\n",
              " True,\n",
              " True,\n",
              " True,\n",
              " True,\n",
              " True,\n",
              " True,\n",
              " True,\n",
              " True,\n",
              " True,\n",
              " True,\n",
              " True,\n",
              " True,\n",
              " True,\n",
              " True,\n",
              " True,\n",
              " True,\n",
              " True,\n",
              " True,\n",
              " True,\n",
              " True,\n",
              " True,\n",
              " True,\n",
              " True,\n",
              " True,\n",
              " True,\n",
              " True,\n",
              " True,\n",
              " True,\n",
              " True,\n",
              " True,\n",
              " True,\n",
              " True,\n",
              " True,\n",
              " True,\n",
              " True,\n",
              " True,\n",
              " True,\n",
              " True,\n",
              " True,\n",
              " True,\n",
              " True,\n",
              " True,\n",
              " True,\n",
              " True,\n",
              " True,\n",
              " True,\n",
              " True,\n",
              " True,\n",
              " True,\n",
              " True,\n",
              " True,\n",
              " True]"
            ]
          },
          "metadata": {
            "tags": []
          },
          "execution_count": 17
        }
      ]
    },
    {
      "cell_type": "code",
      "metadata": {
        "id": "hxJhBOdSBxlW"
      },
      "source": [
        "# [x.values for x in df_fr_full]"
      ],
      "execution_count": 18,
      "outputs": []
    },
    {
      "cell_type": "code",
      "metadata": {
        "colab": {
          "base_uri": "https://localhost:8080/",
          "height": 233
        },
        "id": "dnhUzkZvryes",
        "outputId": "045a6866-9799-4c37-ad09-156204d2ab45"
      },
      "source": [
        "df_fr_merged_full[[\"§1\" == x for x in df_fr_merged_full[\"fullsentence\"]]]\r\n",
        "# df_fr_filtered[\"fullsentence\"].startswith('§') ve left\ttop\twidth\theight esit ise sadece max al diger sil\r\n",
        "  \r\n",
        "  \r\n",
        "# df_fr_merged_full[[x==1716 for x in df_fr_merged_full[\"top\"]]]\r\n",
        "# df_fr_merged_full[139:149]"
      ],
      "execution_count": 19,
      "outputs": [
        {
          "output_type": "execute_result",
          "data": {
            "text/html": [
              "<div>\n",
              "<style scoped>\n",
              "    .dataframe tbody tr th:only-of-type {\n",
              "        vertical-align: middle;\n",
              "    }\n",
              "\n",
              "    .dataframe tbody tr th {\n",
              "        vertical-align: top;\n",
              "    }\n",
              "\n",
              "    .dataframe thead th {\n",
              "        text-align: right;\n",
              "    }\n",
              "</style>\n",
              "<table border=\"1\" class=\"dataframe\">\n",
              "  <thead>\n",
              "    <tr style=\"text-align: right;\">\n",
              "      <th></th>\n",
              "      <th>id</th>\n",
              "      <th>level</th>\n",
              "      <th>page_num</th>\n",
              "      <th>block_num</th>\n",
              "      <th>par_num</th>\n",
              "      <th>line_num</th>\n",
              "      <th>word_num</th>\n",
              "      <th>left</th>\n",
              "      <th>top</th>\n",
              "      <th>width</th>\n",
              "      <th>height</th>\n",
              "      <th>conf</th>\n",
              "      <th>text</th>\n",
              "      <th>fullsentence</th>\n",
              "    </tr>\n",
              "  </thead>\n",
              "  <tbody>\n",
              "    <tr>\n",
              "      <th>69</th>\n",
              "      <td>280</td>\n",
              "      <td>3</td>\n",
              "      <td>1</td>\n",
              "      <td>15</td>\n",
              "      <td>1</td>\n",
              "      <td>0</td>\n",
              "      <td>0</td>\n",
              "      <td>295</td>\n",
              "      <td>1920</td>\n",
              "      <td>38</td>\n",
              "      <td>42</td>\n",
              "      <td>-1</td>\n",
              "      <td></td>\n",
              "      <td>§1</td>\n",
              "    </tr>\n",
              "    <tr>\n",
              "      <th>70</th>\n",
              "      <td>281</td>\n",
              "      <td>4</td>\n",
              "      <td>1</td>\n",
              "      <td>15</td>\n",
              "      <td>1</td>\n",
              "      <td>1</td>\n",
              "      <td>0</td>\n",
              "      <td>295</td>\n",
              "      <td>1920</td>\n",
              "      <td>38</td>\n",
              "      <td>42</td>\n",
              "      <td>-1</td>\n",
              "      <td></td>\n",
              "      <td>§1</td>\n",
              "    </tr>\n",
              "    <tr>\n",
              "      <th>71</th>\n",
              "      <td>282</td>\n",
              "      <td>5</td>\n",
              "      <td>1</td>\n",
              "      <td>15</td>\n",
              "      <td>1</td>\n",
              "      <td>1</td>\n",
              "      <td>1</td>\n",
              "      <td>295</td>\n",
              "      <td>1920</td>\n",
              "      <td>38</td>\n",
              "      <td>42</td>\n",
              "      <td>75</td>\n",
              "      <td>§1</td>\n",
              "      <td>§1</td>\n",
              "    </tr>\n",
              "    <tr>\n",
              "      <th>138</th>\n",
              "      <td>514</td>\n",
              "      <td>3</td>\n",
              "      <td>1</td>\n",
              "      <td>26</td>\n",
              "      <td>1</td>\n",
              "      <td>0</td>\n",
              "      <td>0</td>\n",
              "      <td>1249</td>\n",
              "      <td>1921</td>\n",
              "      <td>40</td>\n",
              "      <td>41</td>\n",
              "      <td>-1</td>\n",
              "      <td></td>\n",
              "      <td>§1</td>\n",
              "    </tr>\n",
              "    <tr>\n",
              "      <th>139</th>\n",
              "      <td>515</td>\n",
              "      <td>4</td>\n",
              "      <td>1</td>\n",
              "      <td>26</td>\n",
              "      <td>1</td>\n",
              "      <td>1</td>\n",
              "      <td>0</td>\n",
              "      <td>1249</td>\n",
              "      <td>1921</td>\n",
              "      <td>40</td>\n",
              "      <td>41</td>\n",
              "      <td>-1</td>\n",
              "      <td></td>\n",
              "      <td>§1</td>\n",
              "    </tr>\n",
              "    <tr>\n",
              "      <th>140</th>\n",
              "      <td>516</td>\n",
              "      <td>5</td>\n",
              "      <td>1</td>\n",
              "      <td>26</td>\n",
              "      <td>1</td>\n",
              "      <td>1</td>\n",
              "      <td>1</td>\n",
              "      <td>1249</td>\n",
              "      <td>1921</td>\n",
              "      <td>40</td>\n",
              "      <td>41</td>\n",
              "      <td>36</td>\n",
              "      <td>§1</td>\n",
              "      <td>§1</td>\n",
              "    </tr>\n",
              "  </tbody>\n",
              "</table>\n",
              "</div>"
            ],
            "text/plain": [
              "      id level page_num block_num par_num  ... width height conf text fullsentence\n",
              "69   280     3        1        15       1  ...    38     42   -1                §1\n",
              "70   281     4        1        15       1  ...    38     42   -1                §1\n",
              "71   282     5        1        15       1  ...    38     42   75   §1           §1\n",
              "138  514     3        1        26       1  ...    40     41   -1                §1\n",
              "139  515     4        1        26       1  ...    40     41   -1                §1\n",
              "140  516     5        1        26       1  ...    40     41   36   §1           §1\n",
              "\n",
              "[6 rows x 14 columns]"
            ]
          },
          "metadata": {
            "tags": []
          },
          "execution_count": 19
        }
      ]
    },
    {
      "cell_type": "code",
      "metadata": {
        "colab": {
          "base_uri": "https://localhost:8080/"
        },
        "id": "86U5Lse6AywF",
        "outputId": "ba000261-2972-43bd-e253-71c4aec5be60"
      },
      "source": [
        "\r\n",
        "df_para = pd.DataFrame()\r\n",
        "df_para[\"paragraph\"] = df_fr_full.groupby(['page_num','block_num','par_num'])['text'].transform(' '.join).str.lstrip().str.rstrip().unique()\r\n",
        "for i in range(20):\r\n",
        "  df_para[\"paragraph\"] = df_para[\"paragraph\"].str.lstrip()\r\n",
        "para_list = df_para[\"paragraph\"].unique()\r\n",
        "para_list[3:5]\r\n"
      ],
      "execution_count": 20,
      "outputs": [
        {
          "output_type": "execute_result",
          "data": {
            "text/plain": [
              "array(['HET AANVULLENDE PARITAIR COMITE  VOOR DE ARBEIDERS TOT INSTELLING  EN VASTSTELLING VAN DE PROCEDURE',\n",
              "       'VAN TENUITVOERLEGGING EN VAN DE  VOORWAARDEN VOOR DE TOEKENNING'],\n",
              "      dtype=object)"
            ]
          },
          "metadata": {
            "tags": []
          },
          "execution_count": 20
        }
      ]
    },
    {
      "cell_type": "code",
      "metadata": {
        "colab": {
          "base_uri": "https://localhost:8080/"
        },
        "id": "sb46Ud1qGrwA",
        "outputId": "8fed5d31-0239-4edf-f301-ef5438b07c4c"
      },
      "source": [
        "df_fr_full.groupby(['page_num'])['text'].transform(' '.join).str.lstrip().str.rstrip().unique()"
      ],
      "execution_count": 21,
      "outputs": [
        {
          "output_type": "execute_result",
          "data": {
            "text/plain": [
              "array([\"Neerlegging-Dépôt: 27/11/2019  Regist.-Enregistr.: 04/02/2020  N°: 156733/C0/100         COLLECTIEVE  ARBEIDSOVEREENKOMST VAN  13 NOVEMBER 2019 AFGESLOTEN IN   HET AANVULLENDE PARITAIR COMITE  VOOR DE ARBEIDERS TOT INSTELLING  EN VASTSTELLING VAN DE PROCEDURE   VAN TENUITVOERLEGGING EN VAN DE  VOORWAARDEN VOOR DE TOEKENNING   BETREFFENDE HET STELSEL VAN  WERKLOOSHEIÏD MET  BEDRIJFSTOESLAG IN UITVOERING VAN  CAO NR 138 en NR 139 GESLOTEN IN DE  NATIONALE ARBEIDSRAAD                                         CONVENTION COLLECTIVE DE TRAVAIL  DU 13 NOVEMBRE 2019 CONCLUE AU  SEIN DE LA COMMISSION PARITAIRE   AUXILIAIRE POUR OUVRIERS  INSTAURANT ET DETERMINANTLA  PROCEDURE DE MISE EN ŒUVRE ET  LES CONDITIONS D'OCTROI D'UN  REGIME DE CHOMAGE AVEC  COMPLEMENT D'ENTREPRISE EN  EXECUTION DE LA CCT n° 138 et n° 139  CONCLUE AU SEIN DU CONSEIL  NATIONAL DU TRAVAIL                   HOOFDSTUK I — TOEPASSINGSGEBIED  Artikel 1                                       Deze collectieve arbeidsovereenkomst geldt  voor de werkgevers en de arbeiders die onder  het toepassingsgebied vallen van het  aanvullend paritair comité voor arbeiders. Onder  “arbeiders” wordt verstaan de mannelijke en  vrouwelike arbeiders.         HOOFDSTUKII - DRAAGWIJDTE VAN DE  OVEREENKOMST  Artikel 2    §1   Deze overeenkomst beoogt zowel de instelling  van een regeling van aanvullende vergoeding  voor sommige oudere werknemers die worden  ontslagen, als de vaststelling van de  procedure van tenuitvoerlegging en van de  voorwaar- den voor de toekenning ervan.    §2   Zij wordt gesloten ingevolge artikel 3, § 1 van  het koninklijk besluit van 3 mei 2007 tot  regeling van het stelsel van werkloosheid met  bedrijfstoeslag.    §3    Deze collectieve arbeidsovereenkomst is  gesloten in uitvoering:   - van artikel 2, §1 tot §3 van Collectieve  arbeidsovereenkomst Nr. 138 van 23  april 2019 “ tot vaststelling, voor de  periode van 1 januari 2021 tot 30 juni  2021 van de voorwaarden voor de  toekenning van een bedrijfstoeslag in  het Kader van het stelsel van          CHAPITRE | - CHAMP D'APPLICATION  Article 1         La présente convention collective de travail  s'applique aux employeurs et aux ouvriers  ressortissants du champ d'application de la  commission paritaire auxiliaire pour ouvriers.  Par «ouvriers », on entend les ouvriers  masculins et féminins.         CHAPITRE Il - PORTEE DE LA  CONVENTION  Article 2                §1   La présente convention a aussi bien pour objet  d'instaurer un régime d'indemnité  complémentaire applicable à certains    travailleurs âgés licenciés que d'en déterminer  la procédure de mise en œuvre et les  conditions d'octroi.    §2   Elle est conclue en vertu de l'article 3, § 1er de  l'arrêté royal du 3 mai 2007 fixant le régime de  chômage avec complément d'entreprise.    §3    La présente convention collective du travail est  conclue en exécution :   - de l’article 2 §1 jusqu'à §3 de la  Convention collective de travail N° 138  du 23 avril 2019 « fixant, pour la  période du 1 janvier 2021 au 30 juin  2021, les conditions d'octroi d’un  complément d'entreprise dans le cadre  du régime de chômage avec\"],\n",
              "      dtype=object)"
            ]
          },
          "metadata": {
            "tags": []
          },
          "execution_count": 21
        }
      ]
    },
    {
      "cell_type": "code",
      "metadata": {
        "colab": {
          "base_uri": "https://localhost:8080/"
        },
        "id": "7-A1GSOUvadA",
        "outputId": "748989b6-55de-424a-d424-1296b1347ce8"
      },
      "source": [
        "i=0\r\n",
        "for a in df_fr_full.groupby(['block_num','par_num'])['text'].transform(' '.join)[[\"§\" in x for x in df_fr_full.groupby(['block_num','par_num'])['text'].transform(' '.join)]]:\r\n",
        "  if i<7:\r\n",
        "    print(len(a),a,a.index(\"§\"),len(a.lstrip(' ')))\r\n",
        "  i+=1"
      ],
      "execution_count": 22,
      "outputs": [
        {
          "output_type": "stream",
          "text": [
            "4   §1 2 2\n",
            "4   §1 2 2\n",
            "4   §1 2 2\n",
            "4   §2 2 2\n",
            "4   §2 2 2\n",
            "4   §2 2 2\n",
            "157   Zij wordt gesloten ingevolge artikel 3, § 1 van  het koninklijk besluit van 3 mei 2007 tot  regeling van het stelsel van werkloosheid met  bedrijfstoeslag. 42 155\n"
          ],
          "name": "stdout"
        }
      ]
    },
    {
      "cell_type": "code",
      "metadata": {
        "id": "snw5Z8oySXEN",
        "colab": {
          "base_uri": "https://localhost:8080/"
        },
        "outputId": "c5bf60be-6154-412b-b56a-8fe0f5edb16b"
      },
      "source": [
        "##### now it is turn for this 5 last tasks #####\r\n",
        "# 1 - call structuring functions to add new columns to the dataset      # Almost finished\r\n",
        "# 2 - call storeDB function to save everything to the DB                # a few lines\r\n",
        "# 3 - call function to update DB with CLA relations and changes         # a few lines\r\n",
        "# 4 - call QnA system to save desired questions and answers to the DB   # a few lines\r\n",
        "# 5 - call API to present the project to the user                       # will take time\r\n",
        "# 6 - Presentation Government Website is our template                   # will take time because you did greate job guys show it\r\n",
        "df_fr_merged_full.groupby(['page_num'])['text'].transform(' '.join).str.lstrip().str.rstrip().unique()"
      ],
      "execution_count": 23,
      "outputs": [
        {
          "output_type": "execute_result",
          "data": {
            "text/plain": [
              "array([\"CONVENTION COLLECTIVE DE TRAVAIL  DU 13 NOVEMBRE 2019 CONCLUE AU  SEIN DE LA COMMISSION PARITAIRE   AUXILIAIRE POUR OUVRIERS  INSTAURANT ET DETERMINANTLA  PROCEDURE DE MISE EN ŒUVRE ET  LES CONDITIONS D'OCTROI D'UN  REGIME DE CHOMAGE AVEC  COMPLEMENT D'ENTREPRISE EN  EXECUTION DE LA CCT n° 138 et n° 139  CONCLUE AU SEIN DU CONSEIL  NATIONAL DU TRAVAIL   §1   §2   §3   CHAPITRE | - CHAMP D'APPLICATION  Article 1   La présente convention collective de travail  s'applique aux employeurs et aux ouvriers  ressortissants du champ d'application de la  commission paritaire auxiliaire pour ouvriers.  Par «ouvriers », on entend les ouvriers  masculins et féminins.   - PORTEE LA  CONVENTION  Article 2   §1   La présente convention a aussi bien pour objet  d'instaurer un régime d'indemnité  complémentaire applicable à certains   travailleurs âgés licenciés que d'en déterminer  la procédure de mise en œuvre et les  conditions d'octroi.   §2   Elle est conclue en vertu de l'article 3, § 1er de  l'arrêté royal du 3 mai 2007 fixant le régime de  chômage avec complément d'entreprise.   §3   La présente convention collective du travail est  conclue en exécution :   - de l’article 2 §1 jusqu'à §3 de la  Convention collective de travail N° 138  du 23 avril 2019 « fixant, pour la  période du 1 janvier 2021 au 30 juin  2021, les conditions d'octroi d’un  complément d'entreprise dans le cadre  du régime de chômage avec\"],\n",
              "      dtype=object)"
            ]
          },
          "metadata": {
            "tags": []
          },
          "execution_count": 23
        }
      ]
    },
    {
      "cell_type": "code",
      "metadata": {
        "colab": {
          "base_uri": "https://localhost:8080/"
        },
        "id": "F-ZwrwzaugzT",
        "outputId": "e168c504-1691-4bb7-b3f8-0a703a07a028"
      },
      "source": [
        "df_fr_merged_full[\"fullsentence\"].unique()"
      ],
      "execution_count": 26,
      "outputs": [
        {
          "output_type": "execute_result",
          "data": {
            "text/plain": [
              "array(['CONVENTION COLLECTIVE DE TRAVAIL  DU 13 NOVEMBRE 2019 CONCLUE AU  SEIN DE LA COMMISSION PARITAIRE',\n",
              "       \"AUXILIAIRE POUR OUVRIERS  INSTAURANT ET DETERMINANTLA  PROCEDURE DE MISE EN ŒUVRE ET  LES CONDITIONS D'OCTROI D'UN  REGIME DE CHOMAGE AVEC  COMPLEMENT D'ENTREPRISE EN  EXECUTION DE LA CCT n° 138 et n° 139  CONCLUE AU SEIN DU CONSEIL  NATIONAL DU TRAVAIL\",\n",
              "       '§1', '§2', '§3', \"CHAPITRE | - CHAMP D'APPLICATION  Article 1\",\n",
              "       \"La présente convention collective de travail  s'applique aux employeurs et aux ouvriers  ressortissants du champ d'application de la  commission paritaire auxiliaire pour ouvriers.  Par «ouvriers », on entend les ouvriers  masculins et féminins.\",\n",
              "       'CHAPITRE Il - PORTEE DE LA  CONVENTION  Article 2',\n",
              "       \"La présente convention a aussi bien pour objet  d'instaurer un régime d'indemnité  complémentaire applicable à certains\",\n",
              "       \"travailleurs âgés licenciés que d'en déterminer  la procédure de mise en œuvre et les  conditions d'octroi.\",\n",
              "       \"Elle est conclue en vertu de l'article 3, § 1er de  l'arrêté royal du 3 mai 2007 fixant le régime de  chômage avec complément d'entreprise.\",\n",
              "       'La présente convention collective du travail est  conclue en exécution :',\n",
              "       \"- de l’article 2 §1 jusqu'à §3 de la  Convention collective de travail N° 138  du 23 avril 2019 « fixant, pour la  période du 1 janvier 2021 au 30 juin  2021, les conditions d'octroi d’un  complément d'entreprise dans le cadre  du régime de chômage avec\"],\n",
              "      dtype=object)"
            ]
          },
          "metadata": {
            "tags": []
          },
          "execution_count": 26
        }
      ]
    },
    {
      "cell_type": "code",
      "metadata": {
        "colab": {
          "base_uri": "https://localhost:8080/",
          "height": 415
        },
        "id": "2AHu0MFVJY4X",
        "outputId": "493cfdbd-8109-4dce-f381-8c799f8bd6a7"
      },
      "source": [
        "df_fr_full"
      ],
      "execution_count": 27,
      "outputs": [
        {
          "output_type": "execute_result",
          "data": {
            "text/html": [
              "<div>\n",
              "<style scoped>\n",
              "    .dataframe tbody tr th:only-of-type {\n",
              "        vertical-align: middle;\n",
              "    }\n",
              "\n",
              "    .dataframe tbody tr th {\n",
              "        vertical-align: top;\n",
              "    }\n",
              "\n",
              "    .dataframe thead th {\n",
              "        text-align: right;\n",
              "    }\n",
              "</style>\n",
              "<table border=\"1\" class=\"dataframe\">\n",
              "  <thead>\n",
              "    <tr style=\"text-align: right;\">\n",
              "      <th></th>\n",
              "      <th>id</th>\n",
              "      <th>level</th>\n",
              "      <th>page_num</th>\n",
              "      <th>block_num</th>\n",
              "      <th>par_num</th>\n",
              "      <th>line_num</th>\n",
              "      <th>word_num</th>\n",
              "      <th>left</th>\n",
              "      <th>top</th>\n",
              "      <th>width</th>\n",
              "      <th>height</th>\n",
              "      <th>conf</th>\n",
              "      <th>text</th>\n",
              "    </tr>\n",
              "  </thead>\n",
              "  <tbody>\n",
              "    <tr>\n",
              "      <th>0</th>\n",
              "      <td>0</td>\n",
              "      <td>1</td>\n",
              "      <td>1</td>\n",
              "      <td>0</td>\n",
              "      <td>0</td>\n",
              "      <td>0</td>\n",
              "      <td>0</td>\n",
              "      <td>0</td>\n",
              "      <td>0</td>\n",
              "      <td>2488</td>\n",
              "      <td>3513</td>\n",
              "      <td>-1</td>\n",
              "      <td></td>\n",
              "    </tr>\n",
              "    <tr>\n",
              "      <th>1</th>\n",
              "      <td>1</td>\n",
              "      <td>2</td>\n",
              "      <td>1</td>\n",
              "      <td>1</td>\n",
              "      <td>0</td>\n",
              "      <td>0</td>\n",
              "      <td>0</td>\n",
              "      <td>1228</td>\n",
              "      <td>333</td>\n",
              "      <td>12</td>\n",
              "      <td>5</td>\n",
              "      <td>-1</td>\n",
              "      <td></td>\n",
              "    </tr>\n",
              "    <tr>\n",
              "      <th>2</th>\n",
              "      <td>2</td>\n",
              "      <td>3</td>\n",
              "      <td>1</td>\n",
              "      <td>1</td>\n",
              "      <td>1</td>\n",
              "      <td>0</td>\n",
              "      <td>0</td>\n",
              "      <td>1228</td>\n",
              "      <td>333</td>\n",
              "      <td>12</td>\n",
              "      <td>5</td>\n",
              "      <td>-1</td>\n",
              "      <td></td>\n",
              "    </tr>\n",
              "    <tr>\n",
              "      <th>3</th>\n",
              "      <td>3</td>\n",
              "      <td>4</td>\n",
              "      <td>1</td>\n",
              "      <td>1</td>\n",
              "      <td>1</td>\n",
              "      <td>1</td>\n",
              "      <td>0</td>\n",
              "      <td>1228</td>\n",
              "      <td>333</td>\n",
              "      <td>12</td>\n",
              "      <td>5</td>\n",
              "      <td>-1</td>\n",
              "      <td></td>\n",
              "    </tr>\n",
              "    <tr>\n",
              "      <th>4</th>\n",
              "      <td>4</td>\n",
              "      <td>5</td>\n",
              "      <td>1</td>\n",
              "      <td>1</td>\n",
              "      <td>1</td>\n",
              "      <td>1</td>\n",
              "      <td>1</td>\n",
              "      <td>1228</td>\n",
              "      <td>333</td>\n",
              "      <td>12</td>\n",
              "      <td>5</td>\n",
              "      <td>95</td>\n",
              "      <td></td>\n",
              "    </tr>\n",
              "    <tr>\n",
              "      <th>...</th>\n",
              "      <td>...</td>\n",
              "      <td>...</td>\n",
              "      <td>...</td>\n",
              "      <td>...</td>\n",
              "      <td>...</td>\n",
              "      <td>...</td>\n",
              "      <td>...</td>\n",
              "      <td>...</td>\n",
              "      <td>...</td>\n",
              "      <td>...</td>\n",
              "      <td>...</td>\n",
              "      <td>...</td>\n",
              "      <td>...</td>\n",
              "    </tr>\n",
              "    <tr>\n",
              "      <th>679</th>\n",
              "      <td>679</td>\n",
              "      <td>5</td>\n",
              "      <td>1</td>\n",
              "      <td>34</td>\n",
              "      <td>1</td>\n",
              "      <td>1</td>\n",
              "      <td>1</td>\n",
              "      <td>2476</td>\n",
              "      <td>2909</td>\n",
              "      <td>12</td>\n",
              "      <td>48</td>\n",
              "      <td>95</td>\n",
              "      <td></td>\n",
              "    </tr>\n",
              "    <tr>\n",
              "      <th>680</th>\n",
              "      <td>680</td>\n",
              "      <td>2</td>\n",
              "      <td>1</td>\n",
              "      <td>35</td>\n",
              "      <td>0</td>\n",
              "      <td>0</td>\n",
              "      <td>0</td>\n",
              "      <td>2470</td>\n",
              "      <td>2364</td>\n",
              "      <td>8</td>\n",
              "      <td>1149</td>\n",
              "      <td>-1</td>\n",
              "      <td></td>\n",
              "    </tr>\n",
              "    <tr>\n",
              "      <th>681</th>\n",
              "      <td>681</td>\n",
              "      <td>3</td>\n",
              "      <td>1</td>\n",
              "      <td>35</td>\n",
              "      <td>1</td>\n",
              "      <td>0</td>\n",
              "      <td>0</td>\n",
              "      <td>2470</td>\n",
              "      <td>2364</td>\n",
              "      <td>8</td>\n",
              "      <td>1149</td>\n",
              "      <td>-1</td>\n",
              "      <td></td>\n",
              "    </tr>\n",
              "    <tr>\n",
              "      <th>682</th>\n",
              "      <td>682</td>\n",
              "      <td>4</td>\n",
              "      <td>1</td>\n",
              "      <td>35</td>\n",
              "      <td>1</td>\n",
              "      <td>1</td>\n",
              "      <td>0</td>\n",
              "      <td>2470</td>\n",
              "      <td>2364</td>\n",
              "      <td>8</td>\n",
              "      <td>1149</td>\n",
              "      <td>-1</td>\n",
              "      <td></td>\n",
              "    </tr>\n",
              "    <tr>\n",
              "      <th>683</th>\n",
              "      <td>683</td>\n",
              "      <td>5</td>\n",
              "      <td>1</td>\n",
              "      <td>35</td>\n",
              "      <td>1</td>\n",
              "      <td>1</td>\n",
              "      <td>1</td>\n",
              "      <td>2470</td>\n",
              "      <td>2364</td>\n",
              "      <td>8</td>\n",
              "      <td>1149</td>\n",
              "      <td>95</td>\n",
              "      <td></td>\n",
              "    </tr>\n",
              "  </tbody>\n",
              "</table>\n",
              "<p>684 rows × 13 columns</p>\n",
              "</div>"
            ],
            "text/plain": [
              "      id level page_num block_num par_num  ...   top width height conf text\n",
              "0      0     1        1         0       0  ...     0  2488   3513   -1     \n",
              "1      1     2        1         1       0  ...   333    12      5   -1     \n",
              "2      2     3        1         1       1  ...   333    12      5   -1     \n",
              "3      3     4        1         1       1  ...   333    12      5   -1     \n",
              "4      4     5        1         1       1  ...   333    12      5   95     \n",
              "..   ...   ...      ...       ...     ...  ...   ...   ...    ...  ...  ...\n",
              "679  679     5        1        34       1  ...  2909    12     48   95     \n",
              "680  680     2        1        35       0  ...  2364     8   1149   -1     \n",
              "681  681     3        1        35       1  ...  2364     8   1149   -1     \n",
              "682  682     4        1        35       1  ...  2364     8   1149   -1     \n",
              "683  683     5        1        35       1  ...  2364     8   1149   95     \n",
              "\n",
              "[684 rows x 13 columns]"
            ]
          },
          "metadata": {
            "tags": []
          },
          "execution_count": 27
        }
      ]
    },
    {
      "cell_type": "code",
      "metadata": {
        "id": "Qk21upZN4fXt"
      },
      "source": [
        ""
      ],
      "execution_count": 24,
      "outputs": []
    }
  ]
}